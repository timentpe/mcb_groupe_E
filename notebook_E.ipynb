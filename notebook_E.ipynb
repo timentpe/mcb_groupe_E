{
 "cells": [
  {
   "cell_type": "code",
   "execution_count": 7,
   "id": "e8a15e22",
   "metadata": {},
   "outputs": [],
   "source": [
    "# Eventuellement faire !pip install -r ../requirements.txt ou !pip install biogeme"
   ]
  },
  {
   "cell_type": "markdown",
   "id": "afac029e",
   "metadata": {},
   "source": [
    "**Model 0**\n"
   ]
  },
  {
   "cell_type": "code",
   "execution_count": null,
   "id": "a58ec687",
   "metadata": {},
   "outputs": [],
   "source": [
    "import biogeme.database as db\n",
    "import biogeme.biogeme as bio\n",
    "from biogeme import models\n",
    "import pandas as pd\n",
    "import numpy as np\n",
    "import matplotlib.pyplot as plt\n",
    "from biogeme.expressions import Beta, Variable, log, exp\n",
    "from biogeme.results_processing import get_pandas_estimated_parameters, html_output\n",
    "from scipy.stats import norm"
   ]
  },
  {
   "cell_type": "code",
   "execution_count": 9,
   "id": "c2c35048",
   "metadata": {},
   "outputs": [],
   "source": [
    "DATA_FOLDER = 'data/'"
   ]
  },
  {
   "cell_type": "code",
   "execution_count": 10,
   "id": "8ebc341f",
   "metadata": {},
   "outputs": [],
   "source": [
    "# Load the .dat file into a pandas DataFrame\n",
    "data = pd.read_csv(DATA_FOLDER + 'lpmc09.dat', sep='\\t')"
   ]
  },
  {
   "cell_type": "code",
   "execution_count": 11,
   "id": "c82f05af",
   "metadata": {},
   "outputs": [
    {
     "data": {
      "application/vnd.microsoft.datawrangler.viewer.v0+json": {
       "columns": [
        {
         "name": "index",
         "rawType": "int64",
         "type": "integer"
        },
        {
         "name": "trip_id",
         "rawType": "int64",
         "type": "integer"
        },
        {
         "name": "household_id",
         "rawType": "int64",
         "type": "integer"
        },
        {
         "name": "person_n",
         "rawType": "int64",
         "type": "integer"
        },
        {
         "name": "trip_n",
         "rawType": "int64",
         "type": "integer"
        },
        {
         "name": "travel_mode",
         "rawType": "int64",
         "type": "integer"
        },
        {
         "name": "purpose",
         "rawType": "int64",
         "type": "integer"
        },
        {
         "name": "fueltype",
         "rawType": "int64",
         "type": "integer"
        },
        {
         "name": "faretype",
         "rawType": "int64",
         "type": "integer"
        },
        {
         "name": "bus_scale",
         "rawType": "float64",
         "type": "float"
        },
        {
         "name": "survey_year",
         "rawType": "int64",
         "type": "integer"
        },
        {
         "name": "travel_year",
         "rawType": "int64",
         "type": "integer"
        },
        {
         "name": "travel_month",
         "rawType": "int64",
         "type": "integer"
        },
        {
         "name": "travel_date",
         "rawType": "int64",
         "type": "integer"
        },
        {
         "name": "day_of_week",
         "rawType": "int64",
         "type": "integer"
        },
        {
         "name": "start_time",
         "rawType": "float64",
         "type": "float"
        },
        {
         "name": "age",
         "rawType": "int64",
         "type": "integer"
        },
        {
         "name": "female",
         "rawType": "int64",
         "type": "integer"
        },
        {
         "name": "driving_license",
         "rawType": "int64",
         "type": "integer"
        },
        {
         "name": "car_ownership",
         "rawType": "int64",
         "type": "integer"
        },
        {
         "name": "distance",
         "rawType": "int64",
         "type": "integer"
        },
        {
         "name": "dur_walking",
         "rawType": "float64",
         "type": "float"
        },
        {
         "name": "dur_cycling",
         "rawType": "float64",
         "type": "float"
        },
        {
         "name": "dur_pt_access",
         "rawType": "float64",
         "type": "float"
        },
        {
         "name": "dur_pt_rail",
         "rawType": "float64",
         "type": "float"
        },
        {
         "name": "dur_pt_bus",
         "rawType": "float64",
         "type": "float"
        },
        {
         "name": "dur_pt_int",
         "rawType": "float64",
         "type": "float"
        },
        {
         "name": "pt_interchanges",
         "rawType": "int64",
         "type": "integer"
        },
        {
         "name": "dur_driving",
         "rawType": "float64",
         "type": "float"
        },
        {
         "name": "cost_transit",
         "rawType": "float64",
         "type": "float"
        },
        {
         "name": "cost_driving_fuel",
         "rawType": "float64",
         "type": "float"
        },
        {
         "name": "cost_driving_ccharge",
         "rawType": "float64",
         "type": "float"
        },
        {
         "name": "driving_traffic_percent",
         "rawType": "float64",
         "type": "float"
        }
       ],
       "ref": "79174090-7a17-4939-a64c-3ca64a7ca14f",
       "rows": [
        [
         "0",
         "13",
         "1",
         "1",
         "1",
         "4",
         "3",
         "1",
         "5",
         "0.0",
         "1",
         "2012",
         "4",
         "1",
         "7",
         "17.66666667",
         "80",
         "0",
         "1",
         "2",
         "3379",
         "0.844722222",
         "0.240277778",
         "0.241388889",
         "0.0",
         "0.1222222219999999",
         "0.0",
         "0",
         "0.132222222",
         "0.0",
         "0.5",
         "0.0",
         "0.0651260999999999"
        ],
        [
         "1",
         "43",
         "10",
         "0",
         "0",
         "3",
         "3",
         "6",
         "1",
         "1.0",
         "1",
         "2012",
         "4",
         "1",
         "7",
         "11.5",
         "21",
         "1",
         "0",
         "0",
         "3020",
         "0.6769444440000001",
         "0.211111111",
         "0.072777778",
         "0.0",
         "0.344722222",
         "0.120555556",
         "1",
         "0.167777778",
         "3.0",
         "0.44",
         "0.0",
         "0.145695"
        ],
        [
         "2",
         "46",
         "12",
         "0",
         "0",
         "4",
         "3",
         "1",
         "5",
         "0.0",
         "1",
         "2012",
         "4",
         "1",
         "7",
         "10.75",
         "64",
         "0",
         "1",
         "1",
         "1443",
         "0.334722222",
         "0.114722222",
         "0.136388889",
         "0.0",
         "0.070277778",
         "0.0",
         "0",
         "0.072222222",
         "0.0",
         "0.24",
         "0.0",
         "0.107692"
        ],
        [
         "3",
         "53",
         "12",
         "1",
         "3",
         "4",
         "3",
         "2",
         "1",
         "1.0",
         "1",
         "2012",
         "4",
         "1",
         "7",
         "11.75",
         "56",
         "1",
         "1",
         "1",
         "1274",
         "0.297777778",
         "0.097222222",
         "0.0825",
         "0.0",
         "0.061944444",
         "0.0",
         "0",
         "0.0625",
         "1.5",
         "0.17",
         "0.0",
         "0.124444"
        ],
        [
         "4",
         "65",
         "13",
         "1",
         "3",
         "3",
         "5",
         "1",
         "5",
         "0.0",
         "1",
         "2012",
         "4",
         "1",
         "7",
         "18.0",
         "64",
         "0",
         "1",
         "1",
         "14470",
         "3.338888889",
         "1.082222222",
         "0.050833333",
         "0.2166666669999999",
         "0.590555556",
         "0.237777778",
         "2",
         "0.863888889",
         "0.0",
         "2.6",
         "0.0",
         "0.675884"
        ]
       ],
       "shape": {
        "columns": 32,
        "rows": 5
       }
      },
      "text/html": [
       "<div>\n",
       "<style scoped>\n",
       "    .dataframe tbody tr th:only-of-type {\n",
       "        vertical-align: middle;\n",
       "    }\n",
       "\n",
       "    .dataframe tbody tr th {\n",
       "        vertical-align: top;\n",
       "    }\n",
       "\n",
       "    .dataframe thead th {\n",
       "        text-align: right;\n",
       "    }\n",
       "</style>\n",
       "<table border=\"1\" class=\"dataframe\">\n",
       "  <thead>\n",
       "    <tr style=\"text-align: right;\">\n",
       "      <th></th>\n",
       "      <th>trip_id</th>\n",
       "      <th>household_id</th>\n",
       "      <th>person_n</th>\n",
       "      <th>trip_n</th>\n",
       "      <th>travel_mode</th>\n",
       "      <th>purpose</th>\n",
       "      <th>fueltype</th>\n",
       "      <th>faretype</th>\n",
       "      <th>bus_scale</th>\n",
       "      <th>survey_year</th>\n",
       "      <th>...</th>\n",
       "      <th>dur_pt_access</th>\n",
       "      <th>dur_pt_rail</th>\n",
       "      <th>dur_pt_bus</th>\n",
       "      <th>dur_pt_int</th>\n",
       "      <th>pt_interchanges</th>\n",
       "      <th>dur_driving</th>\n",
       "      <th>cost_transit</th>\n",
       "      <th>cost_driving_fuel</th>\n",
       "      <th>cost_driving_ccharge</th>\n",
       "      <th>driving_traffic_percent</th>\n",
       "    </tr>\n",
       "  </thead>\n",
       "  <tbody>\n",
       "    <tr>\n",
       "      <th>0</th>\n",
       "      <td>13</td>\n",
       "      <td>1</td>\n",
       "      <td>1</td>\n",
       "      <td>1</td>\n",
       "      <td>4</td>\n",
       "      <td>3</td>\n",
       "      <td>1</td>\n",
       "      <td>5</td>\n",
       "      <td>0.0</td>\n",
       "      <td>1</td>\n",
       "      <td>...</td>\n",
       "      <td>0.241389</td>\n",
       "      <td>0.000000</td>\n",
       "      <td>0.122222</td>\n",
       "      <td>0.000000</td>\n",
       "      <td>0</td>\n",
       "      <td>0.132222</td>\n",
       "      <td>0.0</td>\n",
       "      <td>0.50</td>\n",
       "      <td>0.0</td>\n",
       "      <td>0.065126</td>\n",
       "    </tr>\n",
       "    <tr>\n",
       "      <th>1</th>\n",
       "      <td>43</td>\n",
       "      <td>10</td>\n",
       "      <td>0</td>\n",
       "      <td>0</td>\n",
       "      <td>3</td>\n",
       "      <td>3</td>\n",
       "      <td>6</td>\n",
       "      <td>1</td>\n",
       "      <td>1.0</td>\n",
       "      <td>1</td>\n",
       "      <td>...</td>\n",
       "      <td>0.072778</td>\n",
       "      <td>0.000000</td>\n",
       "      <td>0.344722</td>\n",
       "      <td>0.120556</td>\n",
       "      <td>1</td>\n",
       "      <td>0.167778</td>\n",
       "      <td>3.0</td>\n",
       "      <td>0.44</td>\n",
       "      <td>0.0</td>\n",
       "      <td>0.145695</td>\n",
       "    </tr>\n",
       "    <tr>\n",
       "      <th>2</th>\n",
       "      <td>46</td>\n",
       "      <td>12</td>\n",
       "      <td>0</td>\n",
       "      <td>0</td>\n",
       "      <td>4</td>\n",
       "      <td>3</td>\n",
       "      <td>1</td>\n",
       "      <td>5</td>\n",
       "      <td>0.0</td>\n",
       "      <td>1</td>\n",
       "      <td>...</td>\n",
       "      <td>0.136389</td>\n",
       "      <td>0.000000</td>\n",
       "      <td>0.070278</td>\n",
       "      <td>0.000000</td>\n",
       "      <td>0</td>\n",
       "      <td>0.072222</td>\n",
       "      <td>0.0</td>\n",
       "      <td>0.24</td>\n",
       "      <td>0.0</td>\n",
       "      <td>0.107692</td>\n",
       "    </tr>\n",
       "    <tr>\n",
       "      <th>3</th>\n",
       "      <td>53</td>\n",
       "      <td>12</td>\n",
       "      <td>1</td>\n",
       "      <td>3</td>\n",
       "      <td>4</td>\n",
       "      <td>3</td>\n",
       "      <td>2</td>\n",
       "      <td>1</td>\n",
       "      <td>1.0</td>\n",
       "      <td>1</td>\n",
       "      <td>...</td>\n",
       "      <td>0.082500</td>\n",
       "      <td>0.000000</td>\n",
       "      <td>0.061944</td>\n",
       "      <td>0.000000</td>\n",
       "      <td>0</td>\n",
       "      <td>0.062500</td>\n",
       "      <td>1.5</td>\n",
       "      <td>0.17</td>\n",
       "      <td>0.0</td>\n",
       "      <td>0.124444</td>\n",
       "    </tr>\n",
       "    <tr>\n",
       "      <th>4</th>\n",
       "      <td>65</td>\n",
       "      <td>13</td>\n",
       "      <td>1</td>\n",
       "      <td>3</td>\n",
       "      <td>3</td>\n",
       "      <td>5</td>\n",
       "      <td>1</td>\n",
       "      <td>5</td>\n",
       "      <td>0.0</td>\n",
       "      <td>1</td>\n",
       "      <td>...</td>\n",
       "      <td>0.050833</td>\n",
       "      <td>0.216667</td>\n",
       "      <td>0.590556</td>\n",
       "      <td>0.237778</td>\n",
       "      <td>2</td>\n",
       "      <td>0.863889</td>\n",
       "      <td>0.0</td>\n",
       "      <td>2.60</td>\n",
       "      <td>0.0</td>\n",
       "      <td>0.675884</td>\n",
       "    </tr>\n",
       "  </tbody>\n",
       "</table>\n",
       "<p>5 rows × 32 columns</p>\n",
       "</div>"
      ],
      "text/plain": [
       "   trip_id  household_id  person_n  trip_n  travel_mode  purpose  fueltype  \\\n",
       "0       13             1         1       1            4        3         1   \n",
       "1       43            10         0       0            3        3         6   \n",
       "2       46            12         0       0            4        3         1   \n",
       "3       53            12         1       3            4        3         2   \n",
       "4       65            13         1       3            3        5         1   \n",
       "\n",
       "   faretype  bus_scale  survey_year  ...  dur_pt_access  dur_pt_rail  \\\n",
       "0         5        0.0            1  ...       0.241389     0.000000   \n",
       "1         1        1.0            1  ...       0.072778     0.000000   \n",
       "2         5        0.0            1  ...       0.136389     0.000000   \n",
       "3         1        1.0            1  ...       0.082500     0.000000   \n",
       "4         5        0.0            1  ...       0.050833     0.216667   \n",
       "\n",
       "   dur_pt_bus  dur_pt_int  pt_interchanges  dur_driving  cost_transit  \\\n",
       "0    0.122222    0.000000                0     0.132222           0.0   \n",
       "1    0.344722    0.120556                1     0.167778           3.0   \n",
       "2    0.070278    0.000000                0     0.072222           0.0   \n",
       "3    0.061944    0.000000                0     0.062500           1.5   \n",
       "4    0.590556    0.237778                2     0.863889           0.0   \n",
       "\n",
       "   cost_driving_fuel  cost_driving_ccharge  driving_traffic_percent  \n",
       "0               0.50                   0.0                 0.065126  \n",
       "1               0.44                   0.0                 0.145695  \n",
       "2               0.24                   0.0                 0.107692  \n",
       "3               0.17                   0.0                 0.124444  \n",
       "4               2.60                   0.0                 0.675884  \n",
       "\n",
       "[5 rows x 32 columns]"
      ]
     },
     "execution_count": 11,
     "metadata": {},
     "output_type": "execute_result"
    }
   ],
   "source": [
    "data.head()"
   ]
  },
  {
   "cell_type": "markdown",
   "id": "85efac74",
   "metadata": {},
   "source": [
    "# **Part 1** - Model 0 [1.5 points]\n",
    "\n",
    "#### Develop a model specification that includes alternative specific constant, cost and travel time for each alternative. Cost and travel time are associated with generic parameters. Present both the specification (i.e., the utility functions) and the estimation results (parameter values, t-tests or p-values, null and final log-likelihoods). [1 point]"
   ]
  },
  {
   "cell_type": "code",
   "execution_count": 12,
   "id": "eec7c284",
   "metadata": {},
   "outputs": [],
   "source": [
    "# Create the Biogeme database\n",
    "database = db.Database(\"lpmc09\", data)\n",
    "\n",
    "# Define the variables\n",
    "travel_mode = Variable('travel_mode')\n",
    "dur_walking = Variable('dur_walking')\n",
    "dur_cycling = Variable('dur_cycling')\n",
    "dur_pt_bus = Variable('dur_pt_bus')\n",
    "dur_pt_access = Variable('dur_pt_access')\n",
    "dur_pt_int = Variable('dur_pt_int')\n",
    "dur_driving = Variable('dur_driving')\n",
    "cost_transit = Variable('cost_transit')\n",
    "cost_driving_fuel = Variable('cost_driving_fuel')\n",
    "cost_driving_ccharge = Variable('cost_driving_ccharge')"
   ]
  },
  {
   "cell_type": "code",
   "execution_count": 13,
   "id": "138d4508",
   "metadata": {},
   "outputs": [],
   "source": [
    "# Create new variables\n",
    "dur_pt_tot = dur_pt_bus + dur_pt_access + dur_pt_int\n",
    "cost_drive = cost_driving_fuel + cost_driving_ccharge"
   ]
  },
  {
   "cell_type": "code",
   "execution_count": 14,
   "id": "7b464fe6",
   "metadata": {},
   "outputs": [],
   "source": [
    "# Define the ASC to be estimated\n",
    "asc_pt = Beta('asc_pt', 0, None, None, 0)\n",
    "asc_cycling = Beta('asc_cycling', 0, None, None, 0)\n",
    "asc_driving = Beta('asc_driving', 0, None, None, 0)\n",
    "\n",
    "# Define the Betas to be estimated\n",
    "beta_cost = Beta('beta_cost', 0, None, None, 0)\n",
    "beta_time = Beta('beta_time', 0, None, None, 0)"
   ]
  },
  {
   "cell_type": "code",
   "execution_count": 15,
   "id": "32715dee",
   "metadata": {},
   "outputs": [],
   "source": [
    "# Define the utility functions\n",
    "v_walking = dur_walking * beta_time\n",
    "v_cycling = asc_cycling + dur_cycling * beta_time\n",
    "v_pt = asc_pt + dur_pt_tot * beta_time + cost_transit * beta_cost\n",
    "v_drive = asc_driving + dur_driving * beta_time + cost_drive * beta_cost"
   ]
  },
  {
   "cell_type": "code",
   "execution_count": 16,
   "id": "29f1eecc",
   "metadata": {},
   "outputs": [],
   "source": [
    "# Define the association between alternatives and utility functions\n",
    "V = {1: v_walking,\n",
    "     2: v_cycling,\n",
    "     3: v_pt,\n",
    "     4: v_drive}\n",
    "logprob = models.loglogit(V, None, travel_mode)"
   ]
  },
  {
   "cell_type": "code",
   "execution_count": null,
   "id": "939c6f3d",
   "metadata": {},
   "outputs": [],
   "source": [
    "# Initialisation of the Biogeme object\n",
    "model_0 = bio.BIOGEME(database, logprob)\n",
    "model_0.model_name = 'model_0'"
   ]
  },
  {
   "cell_type": "code",
   "execution_count": 18,
   "id": "50c7dd11",
   "metadata": {},
   "outputs": [
    {
     "name": "stdout",
     "output_type": "stream",
     "text": [
      "Number of estimated parameters             5\n",
      "Sample size                                5000\n",
      "Excluded observations                      0\n",
      "Init log likelihood                        -4552.633\n",
      "Final log likelihood                       -4552.633\n",
      "Likelihood ratio test for the init. model  -0\n",
      "Rho-square for the init. model             0\n",
      "Rho-square-bar for the init. model         -0.0011\n",
      "Akaike Information Criterion               9115.265\n",
      "Bayesian Information Criterion             9147.851\n",
      "Final gradient norm                        1.8474E-05\n",
      "Bootstrapping time                         None\n"
     ]
    }
   ],
   "source": [
    "results_model_0 = model_0.estimate()\n",
    "print(results_model_0.print_general_statistics())"
   ]
  },
  {
   "cell_type": "code",
   "execution_count": 19,
   "id": "dd6edca4",
   "metadata": {},
   "outputs": [
    {
     "data": {
      "application/vnd.microsoft.datawrangler.viewer.v0+json": {
       "columns": [
        {
         "name": "index",
         "rawType": "int64",
         "type": "integer"
        },
        {
         "name": "Name",
         "rawType": "object",
         "type": "string"
        },
        {
         "name": "Value",
         "rawType": "float64",
         "type": "float"
        },
        {
         "name": "Robust std err.",
         "rawType": "float64",
         "type": "float"
        },
        {
         "name": "Robust t-stat.",
         "rawType": "float64",
         "type": "float"
        },
        {
         "name": "Robust p-value",
         "rawType": "float64",
         "type": "float"
        }
       ],
       "ref": "7a8af5a4-f5ea-48a0-99f1-4f112a8f509f",
       "rows": [
        [
         "0",
         "beta_time",
         "-4.374887694462255",
         "0.16454887229944556",
         "-26.587163031423557",
         "0.0"
        ],
        [
         "1",
         "asc_cycling",
         "-3.351220582243177",
         "0.09997306007424989",
         "-33.52123641863347",
         "0.0"
        ],
        [
         "2",
         "asc_pt",
         "-0.6413548042400419",
         "0.05847132569530999",
         "-10.96870639776661",
         "0.0"
        ],
        [
         "3",
         "beta_cost",
         "-0.1377827502054028",
         "0.013933667611051912",
         "-9.88847689291197",
         "0.0"
        ],
        [
         "4",
         "asc_driving",
         "-0.7350675879725719",
         "0.06772211012021737",
         "-10.854174311280492",
         "0.0"
        ]
       ],
       "shape": {
        "columns": 5,
        "rows": 5
       }
      },
      "text/html": [
       "<div>\n",
       "<style scoped>\n",
       "    .dataframe tbody tr th:only-of-type {\n",
       "        vertical-align: middle;\n",
       "    }\n",
       "\n",
       "    .dataframe tbody tr th {\n",
       "        vertical-align: top;\n",
       "    }\n",
       "\n",
       "    .dataframe thead th {\n",
       "        text-align: right;\n",
       "    }\n",
       "</style>\n",
       "<table border=\"1\" class=\"dataframe\">\n",
       "  <thead>\n",
       "    <tr style=\"text-align: right;\">\n",
       "      <th></th>\n",
       "      <th>Name</th>\n",
       "      <th>Value</th>\n",
       "      <th>Robust std err.</th>\n",
       "      <th>Robust t-stat.</th>\n",
       "      <th>Robust p-value</th>\n",
       "    </tr>\n",
       "  </thead>\n",
       "  <tbody>\n",
       "    <tr>\n",
       "      <th>0</th>\n",
       "      <td>beta_time</td>\n",
       "      <td>-4.374888</td>\n",
       "      <td>0.164549</td>\n",
       "      <td>-26.587163</td>\n",
       "      <td>0.0</td>\n",
       "    </tr>\n",
       "    <tr>\n",
       "      <th>1</th>\n",
       "      <td>asc_cycling</td>\n",
       "      <td>-3.351221</td>\n",
       "      <td>0.099973</td>\n",
       "      <td>-33.521236</td>\n",
       "      <td>0.0</td>\n",
       "    </tr>\n",
       "    <tr>\n",
       "      <th>2</th>\n",
       "      <td>asc_pt</td>\n",
       "      <td>-0.641355</td>\n",
       "      <td>0.058471</td>\n",
       "      <td>-10.968706</td>\n",
       "      <td>0.0</td>\n",
       "    </tr>\n",
       "    <tr>\n",
       "      <th>3</th>\n",
       "      <td>beta_cost</td>\n",
       "      <td>-0.137783</td>\n",
       "      <td>0.013934</td>\n",
       "      <td>-9.888477</td>\n",
       "      <td>0.0</td>\n",
       "    </tr>\n",
       "    <tr>\n",
       "      <th>4</th>\n",
       "      <td>asc_driving</td>\n",
       "      <td>-0.735068</td>\n",
       "      <td>0.067722</td>\n",
       "      <td>-10.854174</td>\n",
       "      <td>0.0</td>\n",
       "    </tr>\n",
       "  </tbody>\n",
       "</table>\n",
       "</div>"
      ],
      "text/plain": [
       "          Name     Value  Robust std err.  Robust t-stat.  Robust p-value\n",
       "0    beta_time -4.374888         0.164549      -26.587163             0.0\n",
       "1  asc_cycling -3.351221         0.099973      -33.521236             0.0\n",
       "2       asc_pt -0.641355         0.058471      -10.968706             0.0\n",
       "3    beta_cost -0.137783         0.013934       -9.888477             0.0\n",
       "4  asc_driving -0.735068         0.067722      -10.854174             0.0"
      ]
     },
     "execution_count": 19,
     "metadata": {},
     "output_type": "execute_result"
    }
   ],
   "source": [
    "get_pandas_estimated_parameters(estimation_results=results_model_0)"
   ]
  },
  {
   "cell_type": "code",
   "execution_count": 20,
   "id": "f622442f",
   "metadata": {},
   "outputs": [
    {
     "name": "stdout",
     "output_type": "stream",
     "text": [
      "Beta('beta_cost', -0.1377827502054028, None, None, 0)\n"
     ]
    }
   ],
   "source": [
    "print(beta_cost)"
   ]
  },
  {
   "cell_type": "markdown",
   "id": "c82177b2",
   "metadata": {},
   "source": [
    "#### Comment on the estimation results (statistical significance and sign of all parameters). [0.5 point]\n",
    "\n",
    "\n",
    "#### **Overall Model Fit**\n",
    "- **Log-likelihood**: The initial log-likelihood is **-6931.472**, and the final log-likelihood is **-4552.633**. The improvement suggests the model fits the data better after estimation.\n",
    "- **Likelihood Ratio Test**: The value is **4757.678**, which is high, indicating a significant improvement in model fit compared to the null model (no predictors).\n",
    "- **Rho-square (Pseudo R²)**: Both the **Rho-square for the init. model (0.343)** and the **Rho-square-bar for the init. model (0.342)** suggest that about 34% of the variation in the dependent variable is explained by the model, which is a moderate level of explanatory power.\n",
    "- **AIC and BIC**: The **Akaike Information Criterion (9115.265)** and **Bayesian Information Criterion (9147.851)** are provided for model comparison. Lower values indicate better fit, but without comparison to other models, their absolute values are less interpretable.\n",
    "\n",
    "#### **Interpretation of Parameter Signs**\n",
    "- **beta_time (-4.37)**: The negative sign indicates that as the time variable increases, the utility decreases. This is intuitive: people generally prefer options that take less time.\n",
    "- **asc_cycling (-3.35)**: The negative sign for the alternative-specific constant (ASC) for cycling suggests that, all else being equal, individuals have a lower inherent preference for cycling compared to the base alternative.\n",
    "- **asc_pt (-0.64)**: The negative ASC for public transport (PT) indicates a lower inherent preference for public transport compared to the base alternative.\n",
    "- **beta_cost (-0.14)**: The negative sign for cost means that as the cost increases, the utility decreases. This is expected, as people prefer cheaper options.\n",
    "- **asc_driving (-0.74)**: The negative ASC for driving suggests a lower inherent preference for driving compared to the base alternative.\n",
    "\n",
    "#### **Statistical Significance**\n",
    "- **Robust p-values**: All parameters have **p-values of 0.0**, which means they are **statistically significant** at any conventional level.\n",
    "- **Robust t-statistics**: All t-statistics are far from zero (absolute values much greater than 2), further confirming the statistical significance of each parameter."
   ]
  },
  {
   "cell_type": "markdown",
   "id": "cd550da0",
   "metadata": {},
   "source": [
    "### **What is modified for every model**\n",
    "- Model 1: Temps en alternate specific\n",
    "- Model 2: Ajout de busscale & female\n",
    "- Model 3: Log sur le prix --> log($β_{cost}$)"
   ]
  },
  {
   "cell_type": "code",
   "execution_count": null,
   "id": "8a9aa493",
   "metadata": {},
   "outputs": [],
   "source": []
  },
  {
   "cell_type": "markdown",
   "id": "43c89639",
   "metadata": {},
   "source": [
    "# **Part 2** - Model 1 [3 points]"
   ]
  },
  {
   "cell_type": "code",
   "execution_count": null,
   "id": "1bd8e3b5",
   "metadata": {},
   "outputs": [],
   "source": []
  },
  {
   "cell_type": "markdown",
   "id": "c6a4ad93",
   "metadata": {},
   "source": [
    "# **Part 3** - Model 2 [4 points]"
   ]
  },
  {
   "cell_type": "code",
   "execution_count": null,
   "id": "a8baaa5d",
   "metadata": {},
   "outputs": [],
   "source": []
  },
  {
   "cell_type": "markdown",
   "id": "4b73472f",
   "metadata": {},
   "source": [
    "# **Part 4** - Model 3 [3 points]"
   ]
  },
  {
   "cell_type": "markdown",
   "id": "897d94ec",
   "metadata": {},
   "source": [
    "#### Using $Model_{pref}$ as the base model, include an appropriate non-linear transformation of one of the variables. Present both the specification and the estimation results (as defined previously). [1 point]\n"
   ]
  },
  {
   "cell_type": "code",
   "execution_count": 21,
   "id": "21b9b1cb",
   "metadata": {},
   "outputs": [
    {
     "data": {
      "text/plain": [
       "np.int64(0)"
      ]
     },
     "execution_count": 21,
     "metadata": {},
     "output_type": "execute_result"
    }
   ],
   "source": [
    "data[\"cost_transit\"].isna().sum()"
   ]
  },
  {
   "cell_type": "code",
   "execution_count": 22,
   "id": "5bfb660e",
   "metadata": {},
   "outputs": [],
   "source": [
    "# Definition of the prefferenced model\n",
    "model_pref = model_0 # Basic prefferenced model before creation of model 1 & 2"
   ]
  },
  {
   "cell_type": "code",
   "execution_count": 23,
   "id": "26e6e98c",
   "metadata": {},
   "outputs": [],
   "source": [
    "# We have decided to make the cost variable non-linear by applying a logarithm to it in order to capture diminishing sensitivity to cost increases.\n",
    "# This means that as the cost increases, the impact on the utility decreases at a decreasing rate.\n",
    "# This transformation is appropriate when we believe that individuals are more sensitive to changes in cost at lower\n",
    "# levels of cost compared to higher levels."
   ]
  },
  {
   "cell_type": "code",
   "execution_count": null,
   "id": "9d83586b",
   "metadata": {},
   "outputs": [],
   "source": [
    "# Define variables\n",
    "\n",
    "travel_mode = Variable('travel_mode')\n",
    "dur_walking = Variable('dur_walking')\n",
    "dur_cycling = Variable('dur_cycling')\n",
    "dur_pt_bus = Variable('dur_pt_bus')\n",
    "dur_pt_access = Variable('dur_pt_access')\n",
    "dur_pt_int = Variable('dur_pt_int')\n",
    "dur_driving = Variable('dur_driving')\n",
    "cost_transit = Variable('cost_transit')\n",
    "cost_driving_fuel = Variable('cost_driving_fuel')\n",
    "cost_driving_ccharge = Variable('cost_driving_ccharge')\n",
    "\n",
    "# Create new variables\n",
    "dur_pt_tot = dur_pt_bus + dur_pt_access + dur_pt_int\n",
    "cost_drive = cost_driving_fuel + cost_driving_ccharge"
   ]
  },
  {
   "cell_type": "code",
   "execution_count": 25,
   "id": "8957b706",
   "metadata": {},
   "outputs": [],
   "source": [
    "# Define the ASC to be estimated\n",
    "asc_pt = Beta('asc_pt', 0, None, None, 0)\n",
    "asc_cycling = Beta('asc_cycling', 0, None, None, 0)\n",
    "asc_driving = Beta('asc_driving', 0, None, None, 0)\n",
    "\n",
    "# Define the Betas to be estimated\n",
    "beta_cost = Beta('beta_cost', 0, None, None, 0)\n",
    "beta_time = Beta('beta_time', 0, None, None, 0)"
   ]
  },
  {
   "cell_type": "code",
   "execution_count": 26,
   "id": "be63f5ca",
   "metadata": {},
   "outputs": [],
   "source": [
    "# Box-Cox transformation of costs\n",
    "lambda_boxcox = Beta('lambda_boxcox', 1.01, -10, 10, 0) # Can't put 1 as it creates a log and it is impossible due to values equal to 0 in the cost variable\n",
    "boxcox_cost_transit = models.boxcox(cost_transit, lambda_boxcox)\n",
    "boxcox_cost_drive = models.boxcox(cost_drive, lambda_boxcox)"
   ]
  },
  {
   "cell_type": "code",
   "execution_count": 27,
   "id": "265be009",
   "metadata": {},
   "outputs": [],
   "source": [
    "# Define the utility functions\n",
    "v_walking = dur_walking * beta_time\n",
    "v_cycling = asc_cycling + dur_cycling * beta_time\n",
    "v_pt = asc_pt + dur_pt_tot * beta_time + boxcox_cost_transit * beta_cost\n",
    "v_drive = asc_driving + dur_driving * beta_time + boxcox_cost_drive * beta_cost\n",
    "\n",
    "# Define the association between alternatives and utility functions\n",
    "V = {1: v_walking,\n",
    "     2: v_cycling,\n",
    "     3: v_pt,\n",
    "     4: v_drive}\n",
    "\n",
    "# Define the logit model\n",
    "logprob = models.loglogit(V, None, travel_mode)\n",
    "\n",
    "# Initialisation of the Biogeme object\n",
    "model_3 = bio.BIOGEME(database, logprob)\n",
    "model_3.model_name = 'model_3'"
   ]
  },
  {
   "cell_type": "code",
   "execution_count": 28,
   "id": "21173ab2",
   "metadata": {},
   "outputs": [
    {
     "name": "stdout",
     "output_type": "stream",
     "text": [
      "Number of estimated parameters             6\n",
      "Sample size                                5000\n",
      "Excluded observations                      0\n",
      "Init log likelihood                        -4553.795\n",
      "Final log likelihood                       -4553.795\n",
      "Likelihood ratio test for the init. model  -0\n",
      "Rho-square for the init. model             0\n",
      "Rho-square-bar for the init. model         -0.00132\n",
      "Akaike Information Criterion               9119.59\n",
      "Bayesian Information Criterion             9158.693\n",
      "Final gradient norm                        5.0376E-04\n",
      "Bootstrapping time                         None\n"
     ]
    }
   ],
   "source": [
    "results_model_3 = model_3.estimate()\n",
    "print(results_model_3.print_general_statistics())"
   ]
  },
  {
   "cell_type": "code",
   "execution_count": 29,
   "id": "ffd8c8ba",
   "metadata": {},
   "outputs": [
    {
     "data": {
      "application/vnd.microsoft.datawrangler.viewer.v0+json": {
       "columns": [
        {
         "name": "index",
         "rawType": "int64",
         "type": "integer"
        },
        {
         "name": "Name",
         "rawType": "object",
         "type": "string"
        },
        {
         "name": "Value",
         "rawType": "float64",
         "type": "float"
        },
        {
         "name": "Robust std err.",
         "rawType": "float64",
         "type": "float"
        },
        {
         "name": "Robust t-stat.",
         "rawType": "float64",
         "type": "float"
        },
        {
         "name": "Robust p-value",
         "rawType": "float64",
         "type": "float"
        }
       ],
       "ref": "3ed1840c-d9a1-45c5-b984-2747ccbeabd0",
       "rows": [
        [
         "0",
         "beta_time",
         "-4.367859580296002",
         "0.1700472547178173",
         "-25.686151696739767",
         "0.0"
        ],
        [
         "1",
         "asc_cycling",
         "-3.3635432941068615",
         "0.10457357978712148",
         "-32.16436982413689",
         "0.0"
        ],
        [
         "2",
         "asc_pt",
         "-0.7243177673996087",
         "0.05749418915196995",
         "-12.598103879421197",
         "0.0"
        ],
        [
         "3",
         "lambda_boxcox",
         "0.7827563000562375",
         "0.23828534194573214",
         "3.2849536344308787",
         "0.0010199915521182934"
        ],
        [
         "4",
         "beta_cost",
         "-0.19463071586380834",
         "0.06642732135368379",
         "-2.929979892272367",
         "0.0033898393839388863"
        ],
        [
         "5",
         "asc_driving",
         "-0.9135188834239429",
         "0.09785796250251345",
         "-9.335151274996958",
         "0.0"
        ]
       ],
       "shape": {
        "columns": 5,
        "rows": 6
       }
      },
      "text/html": [
       "<div>\n",
       "<style scoped>\n",
       "    .dataframe tbody tr th:only-of-type {\n",
       "        vertical-align: middle;\n",
       "    }\n",
       "\n",
       "    .dataframe tbody tr th {\n",
       "        vertical-align: top;\n",
       "    }\n",
       "\n",
       "    .dataframe thead th {\n",
       "        text-align: right;\n",
       "    }\n",
       "</style>\n",
       "<table border=\"1\" class=\"dataframe\">\n",
       "  <thead>\n",
       "    <tr style=\"text-align: right;\">\n",
       "      <th></th>\n",
       "      <th>Name</th>\n",
       "      <th>Value</th>\n",
       "      <th>Robust std err.</th>\n",
       "      <th>Robust t-stat.</th>\n",
       "      <th>Robust p-value</th>\n",
       "    </tr>\n",
       "  </thead>\n",
       "  <tbody>\n",
       "    <tr>\n",
       "      <th>0</th>\n",
       "      <td>beta_time</td>\n",
       "      <td>-4.367860</td>\n",
       "      <td>0.170047</td>\n",
       "      <td>-25.686152</td>\n",
       "      <td>0.00000</td>\n",
       "    </tr>\n",
       "    <tr>\n",
       "      <th>1</th>\n",
       "      <td>asc_cycling</td>\n",
       "      <td>-3.363543</td>\n",
       "      <td>0.104574</td>\n",
       "      <td>-32.164370</td>\n",
       "      <td>0.00000</td>\n",
       "    </tr>\n",
       "    <tr>\n",
       "      <th>2</th>\n",
       "      <td>asc_pt</td>\n",
       "      <td>-0.724318</td>\n",
       "      <td>0.057494</td>\n",
       "      <td>-12.598104</td>\n",
       "      <td>0.00000</td>\n",
       "    </tr>\n",
       "    <tr>\n",
       "      <th>3</th>\n",
       "      <td>lambda_boxcox</td>\n",
       "      <td>0.782756</td>\n",
       "      <td>0.238285</td>\n",
       "      <td>3.284954</td>\n",
       "      <td>0.00102</td>\n",
       "    </tr>\n",
       "    <tr>\n",
       "      <th>4</th>\n",
       "      <td>beta_cost</td>\n",
       "      <td>-0.194631</td>\n",
       "      <td>0.066427</td>\n",
       "      <td>-2.929980</td>\n",
       "      <td>0.00339</td>\n",
       "    </tr>\n",
       "    <tr>\n",
       "      <th>5</th>\n",
       "      <td>asc_driving</td>\n",
       "      <td>-0.913519</td>\n",
       "      <td>0.097858</td>\n",
       "      <td>-9.335151</td>\n",
       "      <td>0.00000</td>\n",
       "    </tr>\n",
       "  </tbody>\n",
       "</table>\n",
       "</div>"
      ],
      "text/plain": [
       "            Name     Value  Robust std err.  Robust t-stat.  Robust p-value\n",
       "0      beta_time -4.367860         0.170047      -25.686152         0.00000\n",
       "1    asc_cycling -3.363543         0.104574      -32.164370         0.00000\n",
       "2         asc_pt -0.724318         0.057494      -12.598104         0.00000\n",
       "3  lambda_boxcox  0.782756         0.238285        3.284954         0.00102\n",
       "4      beta_cost -0.194631         0.066427       -2.929980         0.00339\n",
       "5    asc_driving -0.913519         0.097858       -9.335151         0.00000"
      ]
     },
     "execution_count": 29,
     "metadata": {},
     "output_type": "execute_result"
    }
   ],
   "source": [
    "get_pandas_estimated_parameters(estimation_results=results_model_3)"
   ]
  },
  {
   "cell_type": "markdown",
   "id": "b2ef6e42",
   "metadata": {},
   "source": [
    "#### State the underlying assumption of the non-linear specification defined in this situation. [0.5 point]\n",
    "\n",
    "We have decided to make the cost variable non-linear by applying a logarithm to it in order to capture diminishing sensitivity to cost increases. This means that as the cost increases, the impact on the utility decreases at a decreasing rate. This transformation is appropriate when we believe that individuals are more sensitive to changes in cost at lower levels of cost compared to higher levels."
   ]
  },
  {
   "cell_type": "markdown",
   "id": "2e84f033",
   "metadata": {},
   "source": [
    "#### Comment on the estimation results (as defined previously). [0.5 point]"
   ]
  },
  {
   "cell_type": "markdown",
   "id": "10065ec2",
   "metadata": {},
   "source": [
    "### **Overall Model Fit**\n",
    "- **Log-likelihood**: The initial and final log-likelihood are both **-4553.795**, which is unusual because the final log-likelihood should improve (become less negative) after estimation. This suggests a potential issue with the estimation process or the model specification.\n",
    "- **Likelihood Ratio Test**: The value is **0**, which is unexpected and indicates no improvement over the null model. This is likely due to the identical init and final log-likelihoods.\n",
    "- **Rho-square**: Both values are **0**, indicating that the model does not explain any additional variation compared to the null model. This is unusual and suggests a problem with the model or data.\n",
    "- **AIC and BIC**: The values are **9119.59** and **9158.693**, respectively. These are not directly interpretable without comparison to other models, but given the other metrics, they suggest a poor fit.\n",
    "- **Final Gradient Norm**: The value is **5.0376E-04**, which is close to zero, indicating convergence.\n",
    "\n",
    "\n",
    "### **Interpretation of Parameter Signs**\n",
    "- **beta_time (-4.37)**: The negative sign indicates that as the time variable increases, the utility decreases. This is intuitive and expected: people prefer options that take less time.\n",
    "- **asc_cycling (-3.36)**: The negative alternative-specific constant (ASC) for cycling suggests a lower inherent preference for cycling compared to the base alternative.\n",
    "- **asc_pt (-0.72)**: The negative ASC for public transport (PT) indicates a lower inherent preference for public transport compared to the base alternative.\n",
    "- **lambda_boxcox (0.78)**: This is the estimated lambda for the Box-Cox transformation of the cost variable. A value between 0 and 1 suggests a transformation between a log and a linear relationship.\n",
    "- **beta_cost (-0.19)**: The negative sign for the cost parameter means that as the cost increases, the utility decreases. This is expected, as people prefer cheaper options.\n",
    "- **asc_driving (-0.91)**: The negative ASC for driving suggests a lower inherent preference for driving compared to the base alternative.\n",
    "\n",
    "\n",
    "### **Statistical Significance**\n",
    "- **Robust p-values**:\n",
    "  - All parameters except `lambda_boxcox` and `beta_cost` have **p-values of 0.0**, indicating they are **statistically significant**\n",
    "  - `lambda_boxcox` has a p-value of **0.001**, which is still statistically significant.\n",
    "  - `beta_cost` has a p-value of **0.003**, which is also statistically significant.\n",
    "- **Robust t-statistics**:\n",
    "  - All t-statistics are far from zero (absolute values much greater than 2), confirming the statistical significance of each parameter."
   ]
  },
  {
   "cell_type": "markdown",
   "id": "fa829a17",
   "metadata": {},
   "source": [
    "#### Compare Modelpref and Model 3 with an appropriate statistical test. Explain your choice of test. State the null hypothesis and the result of the test. Denote the preferred model as Modelpref. [1 point]"
   ]
  },
  {
   "cell_type": "markdown",
   "id": "653fdd69",
   "metadata": {},
   "source": [
    "As model 3 and $Model_{pref}$ are not nested, we cannot use a regular log-likelihood test, we need to do another test such as a Cox test"
   ]
  },
  {
   "cell_type": "code",
   "execution_count": null,
   "id": "15c14677",
   "metadata": {},
   "outputs": [],
   "source": [
    "# Define base model\n",
    "\n",
    "base_model = model_0 # Basic model before creation of model 1 & 2\n",
    "results_pref = results_model_0"
   ]
  },
  {
   "cell_type": "code",
   "execution_count": 68,
   "id": "8dfd9d69",
   "metadata": {},
   "outputs": [],
   "source": [
    "# Import the parameters estimated in both models\n",
    "parameters_model_pref = get_pandas_estimated_parameters(results_pref)\n",
    "parameters_model_3 = get_pandas_estimated_parameters(results_model_3)"
   ]
  },
  {
   "cell_type": "code",
   "execution_count": 103,
   "id": "a66136ea",
   "metadata": {},
   "outputs": [],
   "source": [
    "# Extract estimated betas from both models\n",
    "def get_betas_dict(results):\n",
    "    params = results.getEstimatedParameters()\n",
    "    return dict(zip(params.index, params['Value']))\n",
    "\n",
    "\n",
    "def compute_chosen_probs(df, betas, boxcox=False, lambda_name='lambda_boxcox'):\n",
    "    \"\"\"\n",
    "    df : DataFrame contenant les données brutes\n",
    "    betas : dict contenant les valeurs des coefficients (Name -> Value)\n",
    "    boxcox : booléen pour indiquer si on applique la transformation Box–Cox\n",
    "    lambda_name : nom du paramètre lambda dans le dictionnaire betas\n",
    "    \"\"\"\n",
    "    # Extraction des coefficients\n",
    "    b_time = betas['beta_time']\n",
    "    b_cost = betas['beta_cost']\n",
    "    asc_cyc = betas['asc_cycling']\n",
    "    asc_pt = betas['asc_pt']\n",
    "    asc_drv = betas['asc_driving']\n",
    "    lam = betas[lambda_name] if boxcox else None\n",
    "    \n",
    "    dur_pt_tot = df['dur_pt_bus'] + df['dur_pt_access'] + df['dur_pt_int']\n",
    "    cost_drive = df['cost_driving_fuel'] + df['cost_driving_ccharge']\n",
    "\n",
    "    # Cost transform\n",
    "    if boxcox:\n",
    "        eps = 1e-6\n",
    "        x_pt = np.maximum(df['cost_transit'], eps)\n",
    "        x_dr = np.maximum(cost_drive, eps)\n",
    "        cost_pt = (x_pt**lam - 1)/lam if lam != 0 else np.log(x_pt)\n",
    "        cost_dr = (x_dr**lam - 1)/lam if lam != 0 else np.log(x_dr)\n",
    "    else:\n",
    "        cost_pt = df['cost_transit']\n",
    "        cost_dr = cost_drive\n",
    "\n",
    "    # Utilities\n",
    "    V = np.column_stack([\n",
    "        b_time * df['dur_walking'],\n",
    "        asc_cyc + b_time * df['dur_cycling'],\n",
    "        asc_pt + b_time * dur_pt_tot + b_cost * cost_pt,\n",
    "        asc_drv + b_time * df['dur_driving'] + b_cost * cost_dr\n",
    "    ])\n",
    "    # Logit probabilities\n",
    "    vmax = V.max(axis=1, keepdims=True)\n",
    "    expV = np.exp(V - vmax)\n",
    "    P = expV / expV.sum(axis=1, keepdims=True)\n",
    "\n",
    "    # Probability of chosen alternative\n",
    "    chosen = df['travel_mode'].astype(int).values - 1\n",
    "    p_chosen = np.clip(P[np.arange(len(df)), chosen], 1e-300, 1.0)\n",
    "    return p_chosen"
   ]
  },
  {
   "cell_type": "code",
   "execution_count": 104,
   "id": "4c8ec062",
   "metadata": {},
   "outputs": [
    {
     "name": "stdout",
     "output_type": "stream",
     "text": [
      "=== Cox Test ===\n",
      "Mean diff in log-likelihoods per obs: 0.001041\n",
      "Std dev: 0.050517\n",
      "T statistic: 1.457\n",
      "p-value: 0.14502\n",
      "→ Fail to reject H0: No significant difference in fit.\n"
     ]
    }
   ],
   "source": [
    "# Compute chosen probabilities for both models\n",
    "betas_pref = get_pandas_estimated_parameters(results_pref)\n",
    "betas_3 = get_pandas_estimated_parameters(results_model_3)\n",
    "\n",
    "betas_model_pref = dict(zip(betas_pref['Name'], betas_pref['Value']))\n",
    "betas_model_3 = dict(zip(betas_3['Name'], betas_3['Value']))\n",
    "\n",
    "p1 = compute_chosen_probs(data, betas_model_pref, boxcox=False)\n",
    "p2 = compute_chosen_probs(data, betas_model_3, boxcox=True)\n",
    "\n",
    "# Compute log probabilities and differences\n",
    "logp1 = np.log(p1)\n",
    "logp2 = np.log(p2)\n",
    "r = logp1 - logp2\n",
    "\n",
    "# Cox test statistic\n",
    "N = len(r)\n",
    "r_bar = np.mean(r)\n",
    "s_r = np.std(r, ddof=1)\n",
    "T = np.sqrt(N) * r_bar / s_r\n",
    "p_value = 2 * (1 - norm.cdf(abs(T)))\n",
    "\n",
    "print(\"=== Cox Test ===\")\n",
    "print(f\"Mean diff in log-likelihoods per obs: {r_bar:.6f}\")\n",
    "print(f\"Std dev: {s_r:.6f}\")\n",
    "print(f\"T statistic: {T:.3f}\")\n",
    "print(f\"p-value: {p_value:.5f}\")\n",
    "\n",
    "if p_value < 0.05:\n",
    "    if r_bar > 0:\n",
    "        print(\"→ Reject H0: Model Pref fits significantly better than Model 3.\")\n",
    "    else:\n",
    "        print(\"→ Reject H0: Model 3 fits significantly better than Model Pref.\")\n",
    "else:\n",
    "    print(\"→ Fail to reject H0: No significant difference in fit.\")\n"
   ]
  }
 ],
 "metadata": {
  "kernelspec": {
   "display_name": "ModellingChoiceBehaviour",
   "language": "python",
   "name": "python3"
  },
  "language_info": {
   "codemirror_mode": {
    "name": "ipython",
    "version": 3
   },
   "file_extension": ".py",
   "mimetype": "text/x-python",
   "name": "python",
   "nbconvert_exporter": "python",
   "pygments_lexer": "ipython3",
   "version": "3.11.13"
  }
 },
 "nbformat": 4,
 "nbformat_minor": 5
}
