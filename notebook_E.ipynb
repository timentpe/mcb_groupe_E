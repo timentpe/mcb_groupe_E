{
 "cells": [
  {
   "cell_type": "code",
   "execution_count": 1,
   "id": "e8a15e22",
   "metadata": {},
   "outputs": [],
   "source": [
    "# Eventuellement faire !pip install -r ../requirements.txt ou !pip install biogeme"
   ]
  },
  {
   "cell_type": "markdown",
   "id": "afac029e",
   "metadata": {},
   "source": [
    "**Model 0**\n"
   ]
  },
  {
   "cell_type": "code",
   "execution_count": 2,
   "id": "a58ec687",
   "metadata": {},
   "outputs": [
    {
     "name": "stderr",
     "output_type": "stream",
     "text": [
      "c:\\Users\\Administrateur\\miniconda3\\envs\\dspap_project\\Lib\\site-packages\\tqdm_joblib\\__init__.py:4: TqdmWarning: IProgress not found. Please update jupyter and ipywidgets. See https://ipywidgets.readthedocs.io/en/stable/user_install.html\n",
      "  from tqdm.autonotebook import tqdm\n"
     ]
    }
   ],
   "source": [
    "import biogeme.database as db\n",
    "import biogeme.biogeme as bio\n",
    "from biogeme import models\n",
    "import pandas as pd\n",
    "import numpy as np\n",
    "import matplotlib.pyplot as plt\n",
    "from biogeme.expressions import Beta, Variable, log, exp\n",
    "from biogeme.results_processing import get_pandas_estimated_parameters, html_output"
   ]
  },
  {
   "cell_type": "code",
   "execution_count": 3,
   "id": "c2c35048",
   "metadata": {},
   "outputs": [],
   "source": [
    "DATA_FOLDER = 'data/'"
   ]
  },
  {
   "cell_type": "code",
   "execution_count": 4,
   "id": "8ebc341f",
   "metadata": {},
   "outputs": [],
   "source": [
    "# Load the .dat file into a pandas DataFrame\n",
    "data = pd.read_csv(DATA_FOLDER + 'lpmc09.dat', sep='\\t')"
   ]
  },
  {
   "cell_type": "code",
   "execution_count": 5,
   "id": "c82f05af",
   "metadata": {},
   "outputs": [
    {
     "data": {
      "text/html": [
       "<div>\n",
       "<style scoped>\n",
       "    .dataframe tbody tr th:only-of-type {\n",
       "        vertical-align: middle;\n",
       "    }\n",
       "\n",
       "    .dataframe tbody tr th {\n",
       "        vertical-align: top;\n",
       "    }\n",
       "\n",
       "    .dataframe thead th {\n",
       "        text-align: right;\n",
       "    }\n",
       "</style>\n",
       "<table border=\"1\" class=\"dataframe\">\n",
       "  <thead>\n",
       "    <tr style=\"text-align: right;\">\n",
       "      <th></th>\n",
       "      <th>trip_id</th>\n",
       "      <th>household_id</th>\n",
       "      <th>person_n</th>\n",
       "      <th>trip_n</th>\n",
       "      <th>travel_mode</th>\n",
       "      <th>purpose</th>\n",
       "      <th>fueltype</th>\n",
       "      <th>faretype</th>\n",
       "      <th>bus_scale</th>\n",
       "      <th>survey_year</th>\n",
       "      <th>...</th>\n",
       "      <th>dur_pt_access</th>\n",
       "      <th>dur_pt_rail</th>\n",
       "      <th>dur_pt_bus</th>\n",
       "      <th>dur_pt_int</th>\n",
       "      <th>pt_interchanges</th>\n",
       "      <th>dur_driving</th>\n",
       "      <th>cost_transit</th>\n",
       "      <th>cost_driving_fuel</th>\n",
       "      <th>cost_driving_ccharge</th>\n",
       "      <th>driving_traffic_percent</th>\n",
       "    </tr>\n",
       "  </thead>\n",
       "  <tbody>\n",
       "    <tr>\n",
       "      <th>0</th>\n",
       "      <td>13</td>\n",
       "      <td>1</td>\n",
       "      <td>1</td>\n",
       "      <td>1</td>\n",
       "      <td>4</td>\n",
       "      <td>3</td>\n",
       "      <td>1</td>\n",
       "      <td>5</td>\n",
       "      <td>0.0</td>\n",
       "      <td>1</td>\n",
       "      <td>...</td>\n",
       "      <td>0.241389</td>\n",
       "      <td>0.000000</td>\n",
       "      <td>0.122222</td>\n",
       "      <td>0.000000</td>\n",
       "      <td>0</td>\n",
       "      <td>0.132222</td>\n",
       "      <td>0.0</td>\n",
       "      <td>0.50</td>\n",
       "      <td>0.0</td>\n",
       "      <td>0.065126</td>\n",
       "    </tr>\n",
       "    <tr>\n",
       "      <th>1</th>\n",
       "      <td>43</td>\n",
       "      <td>10</td>\n",
       "      <td>0</td>\n",
       "      <td>0</td>\n",
       "      <td>3</td>\n",
       "      <td>3</td>\n",
       "      <td>6</td>\n",
       "      <td>1</td>\n",
       "      <td>1.0</td>\n",
       "      <td>1</td>\n",
       "      <td>...</td>\n",
       "      <td>0.072778</td>\n",
       "      <td>0.000000</td>\n",
       "      <td>0.344722</td>\n",
       "      <td>0.120556</td>\n",
       "      <td>1</td>\n",
       "      <td>0.167778</td>\n",
       "      <td>3.0</td>\n",
       "      <td>0.44</td>\n",
       "      <td>0.0</td>\n",
       "      <td>0.145695</td>\n",
       "    </tr>\n",
       "    <tr>\n",
       "      <th>2</th>\n",
       "      <td>46</td>\n",
       "      <td>12</td>\n",
       "      <td>0</td>\n",
       "      <td>0</td>\n",
       "      <td>4</td>\n",
       "      <td>3</td>\n",
       "      <td>1</td>\n",
       "      <td>5</td>\n",
       "      <td>0.0</td>\n",
       "      <td>1</td>\n",
       "      <td>...</td>\n",
       "      <td>0.136389</td>\n",
       "      <td>0.000000</td>\n",
       "      <td>0.070278</td>\n",
       "      <td>0.000000</td>\n",
       "      <td>0</td>\n",
       "      <td>0.072222</td>\n",
       "      <td>0.0</td>\n",
       "      <td>0.24</td>\n",
       "      <td>0.0</td>\n",
       "      <td>0.107692</td>\n",
       "    </tr>\n",
       "    <tr>\n",
       "      <th>3</th>\n",
       "      <td>53</td>\n",
       "      <td>12</td>\n",
       "      <td>1</td>\n",
       "      <td>3</td>\n",
       "      <td>4</td>\n",
       "      <td>3</td>\n",
       "      <td>2</td>\n",
       "      <td>1</td>\n",
       "      <td>1.0</td>\n",
       "      <td>1</td>\n",
       "      <td>...</td>\n",
       "      <td>0.082500</td>\n",
       "      <td>0.000000</td>\n",
       "      <td>0.061944</td>\n",
       "      <td>0.000000</td>\n",
       "      <td>0</td>\n",
       "      <td>0.062500</td>\n",
       "      <td>1.5</td>\n",
       "      <td>0.17</td>\n",
       "      <td>0.0</td>\n",
       "      <td>0.124444</td>\n",
       "    </tr>\n",
       "    <tr>\n",
       "      <th>4</th>\n",
       "      <td>65</td>\n",
       "      <td>13</td>\n",
       "      <td>1</td>\n",
       "      <td>3</td>\n",
       "      <td>3</td>\n",
       "      <td>5</td>\n",
       "      <td>1</td>\n",
       "      <td>5</td>\n",
       "      <td>0.0</td>\n",
       "      <td>1</td>\n",
       "      <td>...</td>\n",
       "      <td>0.050833</td>\n",
       "      <td>0.216667</td>\n",
       "      <td>0.590556</td>\n",
       "      <td>0.237778</td>\n",
       "      <td>2</td>\n",
       "      <td>0.863889</td>\n",
       "      <td>0.0</td>\n",
       "      <td>2.60</td>\n",
       "      <td>0.0</td>\n",
       "      <td>0.675884</td>\n",
       "    </tr>\n",
       "  </tbody>\n",
       "</table>\n",
       "<p>5 rows × 32 columns</p>\n",
       "</div>"
      ],
      "text/plain": [
       "   trip_id  household_id  person_n  trip_n  travel_mode  purpose  fueltype  \\\n",
       "0       13             1         1       1            4        3         1   \n",
       "1       43            10         0       0            3        3         6   \n",
       "2       46            12         0       0            4        3         1   \n",
       "3       53            12         1       3            4        3         2   \n",
       "4       65            13         1       3            3        5         1   \n",
       "\n",
       "   faretype  bus_scale  survey_year  ...  dur_pt_access  dur_pt_rail  \\\n",
       "0         5        0.0            1  ...       0.241389     0.000000   \n",
       "1         1        1.0            1  ...       0.072778     0.000000   \n",
       "2         5        0.0            1  ...       0.136389     0.000000   \n",
       "3         1        1.0            1  ...       0.082500     0.000000   \n",
       "4         5        0.0            1  ...       0.050833     0.216667   \n",
       "\n",
       "   dur_pt_bus  dur_pt_int  pt_interchanges  dur_driving  cost_transit  \\\n",
       "0    0.122222    0.000000                0     0.132222           0.0   \n",
       "1    0.344722    0.120556                1     0.167778           3.0   \n",
       "2    0.070278    0.000000                0     0.072222           0.0   \n",
       "3    0.061944    0.000000                0     0.062500           1.5   \n",
       "4    0.590556    0.237778                2     0.863889           0.0   \n",
       "\n",
       "   cost_driving_fuel  cost_driving_ccharge  driving_traffic_percent  \n",
       "0               0.50                   0.0                 0.065126  \n",
       "1               0.44                   0.0                 0.145695  \n",
       "2               0.24                   0.0                 0.107692  \n",
       "3               0.17                   0.0                 0.124444  \n",
       "4               2.60                   0.0                 0.675884  \n",
       "\n",
       "[5 rows x 32 columns]"
      ]
     },
     "execution_count": 5,
     "metadata": {},
     "output_type": "execute_result"
    }
   ],
   "source": [
    "data.head()"
   ]
  },
  {
   "cell_type": "markdown",
   "id": "85efac74",
   "metadata": {},
   "source": [
    "# **Part 1** - Model 0 [1.5 points]\n",
    "\n",
    "#### Develop a model specification that includes alternative specific constant, cost and travel time for each alternative. Cost and travel time are associated with generic parameters. Present both the specification (i.e., the utility functions) and the estimation results (parameter values, t-tests or p-values, null and final log-likelihoods). [1 point]"
   ]
  },
  {
   "cell_type": "code",
   "execution_count": 6,
   "id": "eec7c284",
   "metadata": {},
   "outputs": [],
   "source": [
    "# Create the Biogeme database\n",
    "database = db.Database(\"lpmc09\", data)\n",
    "\n",
    "# Define the variables\n",
    "travel_mode = Variable('travel_mode')\n",
    "dur_walking = Variable('dur_walking')\n",
    "dur_cycling = Variable('dur_cycling')\n",
    "dur_pt_bus = Variable('dur_pt_bus')\n",
    "dur_pt_access = Variable('dur_pt_access')\n",
    "dur_pt_int = Variable('dur_pt_int')\n",
    "dur_driving = Variable('dur_driving')\n",
    "cost_transit = Variable('cost_transit')\n",
    "cost_driving_fuel = Variable('cost_driving_fuel')\n",
    "cost_driving_ccharge = Variable('cost_driving_ccharge')"
   ]
  },
  {
   "cell_type": "code",
   "execution_count": 7,
   "id": "138d4508",
   "metadata": {},
   "outputs": [],
   "source": [
    "# Create new variables\n",
    "dur_pt_tot = dur_pt_bus + dur_pt_access + dur_pt_int\n",
    "cost_drive = cost_driving_fuel + cost_driving_ccharge"
   ]
  },
  {
   "cell_type": "code",
   "execution_count": 8,
   "id": "7b464fe6",
   "metadata": {},
   "outputs": [],
   "source": [
    "# Define the ASC to be estimated\n",
    "asc_pt = Beta('asc_pt', 0, None, None, 0)\n",
    "asc_cycling = Beta('asc_cycling', 0, None, None, 0)\n",
    "asc_driving = Beta('asc_driving', 0, None, None, 0)\n",
    "\n",
    "# Define the Betas to be estimated\n",
    "beta_cost = Beta('beta_cost', 0, None, None, 0)\n",
    "beta_time = Beta('beta_time', 0, None, None, 0)"
   ]
  },
  {
   "cell_type": "code",
   "execution_count": 9,
   "id": "32715dee",
   "metadata": {},
   "outputs": [],
   "source": [
    "# Define the utility functions\n",
    "v_walking = dur_walking * beta_time\n",
    "v_cycling = asc_cycling + dur_cycling * beta_time\n",
    "v_pt = asc_pt + dur_pt_tot * beta_time + cost_transit * beta_cost\n",
    "v_drive = asc_driving + dur_driving * beta_time + cost_drive * beta_cost"
   ]
  },
  {
   "cell_type": "code",
   "execution_count": 10,
   "id": "29f1eecc",
   "metadata": {},
   "outputs": [],
   "source": [
    "# Define the association between alternatives and utility functions\n",
    "V = {1: v_walking,\n",
    "     2: v_cycling,\n",
    "     3: v_pt,\n",
    "     4: v_drive}\n",
    "logprob = models.loglogit(V, None, travel_mode)"
   ]
  },
  {
   "cell_type": "code",
   "execution_count": 11,
   "id": "939c6f3d",
   "metadata": {},
   "outputs": [
    {
     "name": "stderr",
     "output_type": "stream",
     "text": [
      "File biogeme.toml has been created\n"
     ]
    }
   ],
   "source": [
    "# Initialisation of the Biogeme object\n",
    "biogeme = bio.BIOGEME(database, logprob)\n",
    "biogeme.model_name = 'model_0'"
   ]
  },
  {
   "cell_type": "code",
   "execution_count": 12,
   "id": "50c7dd11",
   "metadata": {},
   "outputs": [
    {
     "name": "stdout",
     "output_type": "stream",
     "text": [
      "Number of estimated parameters             5\n",
      "Sample size                                5000\n",
      "Excluded observations                      0\n",
      "Init log likelihood                        -6931.472\n",
      "Final log likelihood                       -4552.633\n",
      "Likelihood ratio test for the init. model  4757.678\n",
      "Rho-square for the init. model             0.343\n",
      "Rho-square-bar for the init. model         0.342\n",
      "Akaike Information Criterion               9115.265\n",
      "Bayesian Information Criterion             9147.851\n",
      "Final gradient norm                        1.8474E-05\n",
      "Bootstrapping time                         None\n"
     ]
    }
   ],
   "source": [
    "results = biogeme.estimate()\n",
    "print(results.print_general_statistics())"
   ]
  },
  {
   "cell_type": "code",
   "execution_count": 13,
   "id": "dd6edca4",
   "metadata": {},
   "outputs": [
    {
     "data": {
      "text/html": [
       "<div>\n",
       "<style scoped>\n",
       "    .dataframe tbody tr th:only-of-type {\n",
       "        vertical-align: middle;\n",
       "    }\n",
       "\n",
       "    .dataframe tbody tr th {\n",
       "        vertical-align: top;\n",
       "    }\n",
       "\n",
       "    .dataframe thead th {\n",
       "        text-align: right;\n",
       "    }\n",
       "</style>\n",
       "<table border=\"1\" class=\"dataframe\">\n",
       "  <thead>\n",
       "    <tr style=\"text-align: right;\">\n",
       "      <th></th>\n",
       "      <th>Name</th>\n",
       "      <th>Value</th>\n",
       "      <th>Robust std err.</th>\n",
       "      <th>Robust t-stat.</th>\n",
       "      <th>Robust p-value</th>\n",
       "    </tr>\n",
       "  </thead>\n",
       "  <tbody>\n",
       "    <tr>\n",
       "      <th>0</th>\n",
       "      <td>beta_time</td>\n",
       "      <td>-4.374888</td>\n",
       "      <td>0.164549</td>\n",
       "      <td>-26.587163</td>\n",
       "      <td>0.0</td>\n",
       "    </tr>\n",
       "    <tr>\n",
       "      <th>1</th>\n",
       "      <td>asc_cycling</td>\n",
       "      <td>-3.351221</td>\n",
       "      <td>0.099973</td>\n",
       "      <td>-33.521236</td>\n",
       "      <td>0.0</td>\n",
       "    </tr>\n",
       "    <tr>\n",
       "      <th>2</th>\n",
       "      <td>asc_pt</td>\n",
       "      <td>-0.641355</td>\n",
       "      <td>0.058471</td>\n",
       "      <td>-10.968706</td>\n",
       "      <td>0.0</td>\n",
       "    </tr>\n",
       "    <tr>\n",
       "      <th>3</th>\n",
       "      <td>beta_cost</td>\n",
       "      <td>-0.137783</td>\n",
       "      <td>0.013934</td>\n",
       "      <td>-9.888477</td>\n",
       "      <td>0.0</td>\n",
       "    </tr>\n",
       "    <tr>\n",
       "      <th>4</th>\n",
       "      <td>asc_driving</td>\n",
       "      <td>-0.735068</td>\n",
       "      <td>0.067722</td>\n",
       "      <td>-10.854174</td>\n",
       "      <td>0.0</td>\n",
       "    </tr>\n",
       "  </tbody>\n",
       "</table>\n",
       "</div>"
      ],
      "text/plain": [
       "          Name     Value  Robust std err.  Robust t-stat.  Robust p-value\n",
       "0    beta_time -4.374888         0.164549      -26.587163             0.0\n",
       "1  asc_cycling -3.351221         0.099973      -33.521236             0.0\n",
       "2       asc_pt -0.641355         0.058471      -10.968706             0.0\n",
       "3    beta_cost -0.137783         0.013934       -9.888477             0.0\n",
       "4  asc_driving -0.735068         0.067722      -10.854174             0.0"
      ]
     },
     "execution_count": 13,
     "metadata": {},
     "output_type": "execute_result"
    }
   ],
   "source": [
    "get_pandas_estimated_parameters(estimation_results=results)"
   ]
  },
  {
   "cell_type": "markdown",
   "id": "c82177b2",
   "metadata": {},
   "source": [
    "#### Comment on the estimation results (statistical significance and sign of all parameters). [0.5 point]\n",
    "\n",
    "\n",
    "#### **Overall Model Fit**\n",
    "- **Log-likelihood**: The initial log-likelihood is **-6931.472**, and the final log-likelihood is **-4552.633**. The improvement suggests the model fits the data better after estimation.\n",
    "- **Likelihood Ratio Test**: The value is **4757.678**, which is high, indicating a significant improvement in model fit compared to the null model (no predictors).\n",
    "- **Rho-square (Pseudo R²)**: Both the **Rho-square for the init. model (0.343)** and the **Rho-square-bar for the init. model (0.342)** suggest that about 34% of the variation in the dependent variable is explained by the model, which is a moderate level of explanatory power.\n",
    "- **AIC and BIC**: The **Akaike Information Criterion (9115.265)** and **Bayesian Information Criterion (9147.851)** are provided for model comparison. Lower values indicate better fit, but without comparison to other models, their absolute values are less interpretable.\n",
    "\n",
    "#### **Interpretation of Parameter Signs**\n",
    "- **beta_time (-4.37)**: The negative sign indicates that as the time variable increases, the utility decreases. This is intuitive: people generally prefer options that take less time.\n",
    "- **asc_cycling (-3.35)**: The negative sign for the alternative-specific constant (ASC) for cycling suggests that, all else being equal, individuals have a lower inherent preference for cycling compared to the base alternative.\n",
    "- **asc_pt (-0.64)**: The negative ASC for public transport (PT) indicates a lower inherent preference for public transport compared to the base alternative.\n",
    "- **beta_cost (-0.14)**: The negative sign for cost means that as the cost increases, the utility decreases. This is expected, as people prefer cheaper options.\n",
    "- **asc_driving (-0.74)**: The negative ASC for driving suggests a lower inherent preference for driving compared to the base alternative.\n",
    "\n",
    "#### **Statistical Significance**\n",
    "- **Robust p-values**: All parameters have **p-values of 0.0**, which means they are **statistically significant** at any conventional level.\n",
    "- **Robust t-statistics**: All t-statistics are far from zero (absolute values much greater than 2), further confirming the statistical significance of each parameter."
   ]
  },
  {
   "cell_type": "markdown",
   "id": "cd550da0",
   "metadata": {},
   "source": [
    "### **What is modified for every model**\n",
    "- Model 1: Temps en alternate specific\n",
    "- Model 2: Ajout de busscale & female\n",
    "- Model 3: Log sur le prix --> log($β_{cost}$)"
   ]
  },
  {
   "cell_type": "code",
   "execution_count": null,
   "id": "8a9aa493",
   "metadata": {},
   "outputs": [],
   "source": []
  },
  {
   "cell_type": "markdown",
   "id": "43c89639",
   "metadata": {},
   "source": [
    "# **Part 2** - Model 1 [3 points]"
   ]
  },
  {
   "cell_type": "code",
   "execution_count": null,
   "id": "1bd8e3b5",
   "metadata": {},
   "outputs": [],
   "source": []
  },
  {
   "cell_type": "markdown",
   "id": "c6a4ad93",
   "metadata": {},
   "source": [
    "# **Part 3** - Model 2 [4 points]"
   ]
  },
  {
   "cell_type": "markdown",
   "id": "dbe34dd8",
   "metadata": {},
   "source": [
    "**In this part, we will consider the *bus scale* variable, which will modify the prices of pt depending on the individuals. We will also consider if the individual is a female or not (only for walking, cycling and pt)**"
   ]
  },
  {
   "cell_type": "code",
   "execution_count": 17,
   "id": "a8baaa5d",
   "metadata": {},
   "outputs": [],
   "source": [
    "# add the additional variables\n",
    "bus_scale = Variable('bus_scale')\n",
    "female = Variable('female')"
   ]
  },
  {
   "cell_type": "code",
   "execution_count": 18,
   "id": "9057a997",
   "metadata": {},
   "outputs": [],
   "source": [
    "# Define the ASC to be estimated\n",
    "asc_pt2 = Beta('asc_pt', 0, None, None, 0)\n",
    "asc_cycling2 = Beta('asc_cycling', 0, None, None, 0)\n",
    "asc_driving2 = Beta('asc_driving', 0, None, None, 0)\n",
    "\n",
    "# Define the Betas to be estimated\n",
    "beta_cost2 = Beta('beta_cost', 0, None, None, 0)\n",
    "beta_time2 = Beta('beta_time', 0, None, None, 0)\n",
    "beta_female2 = Beta('beta_female', 0, None, None, 0)\n",
    "beta_bus_scale2 = Beta('beta_bus_scale', 0, None, None, 0)"
   ]
  },
  {
   "cell_type": "markdown",
   "id": "17694440",
   "metadata": {},
   "source": [
    "*Female everywhere except in drive, bus scale only in pt :*"
   ]
  },
  {
   "cell_type": "code",
   "execution_count": 19,
   "id": "f6e231e8",
   "metadata": {},
   "outputs": [],
   "source": [
    "# Define the utility functions\n",
    "v_walking2 = dur_walking * beta_time2 + beta_female2 * female\n",
    "v_cycling2 = asc_cycling2 + dur_cycling * beta_time2 + beta_female2 * female\n",
    "v_pt2 = asc_pt2 + dur_pt_tot * beta_time2 + cost_transit * beta_cost2 + beta_bus_scale2 * bus_scale + beta_female2 * female\n",
    "v_drive2 = asc_driving2 + dur_driving * beta_time2 + cost_drive * beta_cost2"
   ]
  },
  {
   "cell_type": "code",
   "execution_count": 20,
   "id": "8da4953a",
   "metadata": {},
   "outputs": [],
   "source": [
    "# Define the association between alternatives and utility functions\n",
    "V2 = {1: v_walking2,\n",
    "     2: v_cycling2,\n",
    "     3: v_pt2,\n",
    "     4: v_drive2}\n",
    "logprob2 = models.loglogit(V2, None, travel_mode)"
   ]
  },
  {
   "cell_type": "code",
   "execution_count": 21,
   "id": "aaab1cba",
   "metadata": {},
   "outputs": [],
   "source": [
    "# Initialisation of the Biogeme object\n",
    "biogeme = bio.BIOGEME(database, logprob2)\n",
    "biogeme.model_name = 'model_2'"
   ]
  },
  {
   "cell_type": "code",
   "execution_count": 22,
   "id": "e3bd92a4",
   "metadata": {},
   "outputs": [
    {
     "name": "stdout",
     "output_type": "stream",
     "text": [
      "Number of estimated parameters             7\n",
      "Sample size                                5000\n",
      "Excluded observations                      0\n",
      "Init log likelihood                        -6931.472\n",
      "Final log likelihood                       -4550.464\n",
      "Likelihood ratio test for the init. model  4762.015\n",
      "Rho-square for the init. model             0.344\n",
      "Rho-square-bar for the init. model         0.342\n",
      "Akaike Information Criterion               9114.929\n",
      "Bayesian Information Criterion             9160.549\n",
      "Final gradient norm                        6.8796E-05\n",
      "Bootstrapping time                         None\n"
     ]
    }
   ],
   "source": [
    "results2 = biogeme.estimate()\n",
    "print(results2.print_general_statistics())"
   ]
  },
  {
   "cell_type": "code",
   "execution_count": 24,
   "id": "bc298bdb",
   "metadata": {},
   "outputs": [
    {
     "data": {
      "text/html": [
       "<div>\n",
       "<style scoped>\n",
       "    .dataframe tbody tr th:only-of-type {\n",
       "        vertical-align: middle;\n",
       "    }\n",
       "\n",
       "    .dataframe tbody tr th {\n",
       "        vertical-align: top;\n",
       "    }\n",
       "\n",
       "    .dataframe thead th {\n",
       "        text-align: right;\n",
       "    }\n",
       "</style>\n",
       "<table border=\"1\" class=\"dataframe\">\n",
       "  <thead>\n",
       "    <tr style=\"text-align: right;\">\n",
       "      <th></th>\n",
       "      <th>Name</th>\n",
       "      <th>Value</th>\n",
       "      <th>Robust std err.</th>\n",
       "      <th>Robust t-stat.</th>\n",
       "      <th>Robust p-value</th>\n",
       "    </tr>\n",
       "  </thead>\n",
       "  <tbody>\n",
       "    <tr>\n",
       "      <th>0</th>\n",
       "      <td>beta_time</td>\n",
       "      <td>-4.406002</td>\n",
       "      <td>0.165523</td>\n",
       "      <td>-26.618743</td>\n",
       "      <td>0.000000e+00</td>\n",
       "    </tr>\n",
       "    <tr>\n",
       "      <th>1</th>\n",
       "      <td>beta_female</td>\n",
       "      <td>0.073316</td>\n",
       "      <td>0.065207</td>\n",
       "      <td>1.124354</td>\n",
       "      <td>2.608628e-01</td>\n",
       "    </tr>\n",
       "    <tr>\n",
       "      <th>2</th>\n",
       "      <td>asc_cycling</td>\n",
       "      <td>-3.357580</td>\n",
       "      <td>0.099922</td>\n",
       "      <td>-33.602169</td>\n",
       "      <td>0.000000e+00</td>\n",
       "    </tr>\n",
       "    <tr>\n",
       "      <th>3</th>\n",
       "      <td>asc_pt</td>\n",
       "      <td>-0.571545</td>\n",
       "      <td>0.070935</td>\n",
       "      <td>-8.057311</td>\n",
       "      <td>8.881784e-16</td>\n",
       "    </tr>\n",
       "    <tr>\n",
       "      <th>4</th>\n",
       "      <td>beta_cost</td>\n",
       "      <td>-0.130842</td>\n",
       "      <td>0.013869</td>\n",
       "      <td>-9.434079</td>\n",
       "      <td>0.000000e+00</td>\n",
       "    </tr>\n",
       "    <tr>\n",
       "      <th>5</th>\n",
       "      <td>beta_bus_scale</td>\n",
       "      <td>-0.131658</td>\n",
       "      <td>0.076073</td>\n",
       "      <td>-1.730694</td>\n",
       "      <td>8.350640e-02</td>\n",
       "    </tr>\n",
       "    <tr>\n",
       "      <th>6</th>\n",
       "      <td>asc_driving</td>\n",
       "      <td>-0.710479</td>\n",
       "      <td>0.076399</td>\n",
       "      <td>-9.299611</td>\n",
       "      <td>0.000000e+00</td>\n",
       "    </tr>\n",
       "  </tbody>\n",
       "</table>\n",
       "</div>"
      ],
      "text/plain": [
       "             Name     Value  Robust std err.  Robust t-stat.  Robust p-value\n",
       "0       beta_time -4.406002         0.165523      -26.618743    0.000000e+00\n",
       "1     beta_female  0.073316         0.065207        1.124354    2.608628e-01\n",
       "2     asc_cycling -3.357580         0.099922      -33.602169    0.000000e+00\n",
       "3          asc_pt -0.571545         0.070935       -8.057311    8.881784e-16\n",
       "4       beta_cost -0.130842         0.013869       -9.434079    0.000000e+00\n",
       "5  beta_bus_scale -0.131658         0.076073       -1.730694    8.350640e-02\n",
       "6     asc_driving -0.710479         0.076399       -9.299611    0.000000e+00"
      ]
     },
     "execution_count": 24,
     "metadata": {},
     "output_type": "execute_result"
    }
   ],
   "source": [
    "get_pandas_estimated_parameters(estimation_results=results2)"
   ]
  },
  {
   "cell_type": "markdown",
   "id": "867a2d2e",
   "metadata": {},
   "source": [
    "Les résultats du modèle indiquent tout d’abord une forte sensibilité au temps de trajet, avec un coefficient beta_time = -4.406 (p < 0.001) : plus un trajet est long, moins il est attractif. Le coût a également un effet négatif et significatif (beta_cost = -0.1308, p < 0.001), montrant que les individus privilégient les modes économiques, bien que son influence soit moins marquée que celle du temps. Le paramètre beta_female = 0.0733 (p = 0.26) n’est pas significatif, ce qui suggère qu’il n’existe pas de différence notable entre hommes et femmes dans les choix de mode de transport.\n",
    "Concernant les constantes, asc_cycling = -3.3576 (p < 0.001) met en évidence une forte désaffection pour le vélo par rapport à la marche, utilisée comme référence. La constante asc_pt = -0.5715 (p < 0.001) montre que les transports publics sont globalement moins attractifs que la marche, mais de façon plus modérée. En revanche, la variable beta_bus_scale = -0.1317 (p = 0.0835) introduit un effet spécifique lié au dispositif de tarification du bus : ce paramètre reflète le fait que certaines personnes bénéficient d’une réduction ou d’un tarif préférentiel. Le signe négatif indique que, même si ces usagers paient moins cher, cela n’accroît pas significativement leur propension à choisir le bus, suggérant que d’autres facteurs (temps de parcours, confort, fréquence, correspondances) continuent à peser davantage dans leur décision. Enfin, asc_driving = -0.7105 (p < 0.001) traduit une moindre préférence pour la voiture par rapport à la marche, ce qui peut s’expliquer par des contraintes de stationnement ou des contextes urbains denses.\n",
    "Globalement, le modèle met en lumière une population très sensible au temps, modérément sensible au coût, et structurellement favorable à la marche, tandis que les transports motorisés, y compris le bus malgré les réductions tarifaires, apparaissent comme des alternatives perçues moins positivement."
   ]
  },
  {
   "cell_type": "markdown",
   "id": "4b73472f",
   "metadata": {},
   "source": [
    "# **Part 4** - Model 3 [3 points]"
   ]
  },
  {
   "cell_type": "markdown",
   "id": "897d94ec",
   "metadata": {},
   "source": [
    "#### Using $Model_{pref}$ as the base model, include an appropriate non-linear transformation of one of the variables. Present both the specification and the estimation results (as defined previously). [1 point]\n"
   ]
  },
  {
   "cell_type": "code",
   "execution_count": 14,
   "id": "5bfb660e",
   "metadata": {},
   "outputs": [],
   "source": [
    "#\n",
    "model_pref = \"model_0\" # Basic prefferenced model before creation of model 1 & 2"
   ]
  },
  {
   "cell_type": "code",
   "execution_count": null,
   "id": "265be009",
   "metadata": {},
   "outputs": [],
   "source": []
  },
  {
   "cell_type": "markdown",
   "id": "b2ef6e42",
   "metadata": {},
   "source": [
    "#### State the underlying assumption of the non-linear specification defined in this situation. [0.5 point]\n",
    "\n",
    "When the prince reaches a certain point, it becomes too expansive for the user whatever the price is after this level, using a logarithm will make the price less significative as the price will increase"
   ]
  },
  {
   "cell_type": "markdown",
   "id": "2e84f033",
   "metadata": {},
   "source": [
    "#### Comment on the estimation results (as defined previously). [0.5 point]"
   ]
  },
  {
   "cell_type": "markdown",
   "id": "fa829a17",
   "metadata": {},
   "source": [
    "#### Compare Modelpref and Model 3 with an appropriate statistical test. Explain your choice of test. State the null hypothesis and the result of the test. Denote the preferred model as Modelpref. [1 point]"
   ]
  }
 ],
 "metadata": {
  "kernelspec": {
   "display_name": "dspap_project",
   "language": "python",
   "name": "python3"
  },
  "language_info": {
   "codemirror_mode": {
    "name": "ipython",
    "version": 3
   },
   "file_extension": ".py",
   "mimetype": "text/x-python",
   "name": "python",
   "nbconvert_exporter": "python",
   "pygments_lexer": "ipython3",
   "version": "3.13.5"
  }
 },
 "nbformat": 4,
 "nbformat_minor": 5
}
