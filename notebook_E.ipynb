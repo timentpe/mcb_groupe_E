{
 "cells": [
  {
   "cell_type": "markdown",
   "id": "2ad1be1d",
   "metadata": {},
   "source": [
    "# Modelling Choice Behaviour - Group E\n",
    "## London Passenger Mode Choice\n",
    "Students : DAMBREVILLE Nathan, DELPLANQUE Maxime, POULY Thimothée"
   ]
  },
  {
   "cell_type": "markdown",
   "id": "a228fe40",
   "metadata": {},
   "source": [
    "### **<u>I/ Imports</u>**\n",
    "#### **1 - Libraries**"
   ]
  },
  {
   "cell_type": "code",
   "execution_count": 79,
   "id": "e8a15e22",
   "metadata": {},
   "outputs": [],
   "source": [
    "# %conda env create -f env/MCB_E.yml\n",
    "# %pip install biogeme\n",
    "\n",
    "import biogeme.database as db\n",
    "import biogeme.biogeme as bio\n",
    "from biogeme import models\n",
    "import pandas as pd\n",
    "import numpy as np\n",
    "import matplotlib.pyplot as plt\n",
    "from biogeme.expressions import Beta, Variable, log, exp\n",
    "from biogeme.results_processing import get_pandas_estimated_parameters, html_output\n",
    "from scipy.stats import norm"
   ]
  },
  {
   "cell_type": "markdown",
   "id": "7fb40bd8",
   "metadata": {},
   "source": [
    "#### **2 - Data**"
   ]
  },
  {
   "cell_type": "code",
   "execution_count": 80,
   "id": "c2c35048",
   "metadata": {},
   "outputs": [
    {
     "data": {
      "application/vnd.microsoft.datawrangler.viewer.v0+json": {
       "columns": [
        {
         "name": "index",
         "rawType": "int64",
         "type": "integer"
        },
        {
         "name": "trip_id",
         "rawType": "int64",
         "type": "integer"
        },
        {
         "name": "household_id",
         "rawType": "int64",
         "type": "integer"
        },
        {
         "name": "person_n",
         "rawType": "int64",
         "type": "integer"
        },
        {
         "name": "trip_n",
         "rawType": "int64",
         "type": "integer"
        },
        {
         "name": "travel_mode",
         "rawType": "int64",
         "type": "integer"
        },
        {
         "name": "purpose",
         "rawType": "int64",
         "type": "integer"
        },
        {
         "name": "fueltype",
         "rawType": "int64",
         "type": "integer"
        },
        {
         "name": "faretype",
         "rawType": "int64",
         "type": "integer"
        },
        {
         "name": "bus_scale",
         "rawType": "float64",
         "type": "float"
        },
        {
         "name": "survey_year",
         "rawType": "int64",
         "type": "integer"
        },
        {
         "name": "travel_year",
         "rawType": "int64",
         "type": "integer"
        },
        {
         "name": "travel_month",
         "rawType": "int64",
         "type": "integer"
        },
        {
         "name": "travel_date",
         "rawType": "int64",
         "type": "integer"
        },
        {
         "name": "day_of_week",
         "rawType": "int64",
         "type": "integer"
        },
        {
         "name": "start_time",
         "rawType": "float64",
         "type": "float"
        },
        {
         "name": "age",
         "rawType": "int64",
         "type": "integer"
        },
        {
         "name": "female",
         "rawType": "int64",
         "type": "integer"
        },
        {
         "name": "driving_license",
         "rawType": "int64",
         "type": "integer"
        },
        {
         "name": "car_ownership",
         "rawType": "int64",
         "type": "integer"
        },
        {
         "name": "distance",
         "rawType": "int64",
         "type": "integer"
        },
        {
         "name": "dur_walking",
         "rawType": "float64",
         "type": "float"
        },
        {
         "name": "dur_cycling",
         "rawType": "float64",
         "type": "float"
        },
        {
         "name": "dur_pt_access",
         "rawType": "float64",
         "type": "float"
        },
        {
         "name": "dur_pt_rail",
         "rawType": "float64",
         "type": "float"
        },
        {
         "name": "dur_pt_bus",
         "rawType": "float64",
         "type": "float"
        },
        {
         "name": "dur_pt_int",
         "rawType": "float64",
         "type": "float"
        },
        {
         "name": "pt_interchanges",
         "rawType": "int64",
         "type": "integer"
        },
        {
         "name": "dur_driving",
         "rawType": "float64",
         "type": "float"
        },
        {
         "name": "cost_transit",
         "rawType": "float64",
         "type": "float"
        },
        {
         "name": "cost_driving_fuel",
         "rawType": "float64",
         "type": "float"
        },
        {
         "name": "cost_driving_ccharge",
         "rawType": "float64",
         "type": "float"
        },
        {
         "name": "driving_traffic_percent",
         "rawType": "float64",
         "type": "float"
        }
       ],
       "ref": "2212348a-fe0e-40a7-9717-82776b4895ee",
       "rows": [
        [
         "0",
         "13",
         "1",
         "1",
         "1",
         "4",
         "3",
         "1",
         "5",
         "0.0",
         "1",
         "2012",
         "4",
         "1",
         "7",
         "17.66666667",
         "80",
         "0",
         "1",
         "2",
         "3379",
         "0.844722222",
         "0.240277778",
         "0.241388889",
         "0.0",
         "0.1222222219999999",
         "0.0",
         "0",
         "0.132222222",
         "0.0",
         "0.5",
         "0.0",
         "0.0651260999999999"
        ],
        [
         "1",
         "43",
         "10",
         "0",
         "0",
         "3",
         "3",
         "6",
         "1",
         "1.0",
         "1",
         "2012",
         "4",
         "1",
         "7",
         "11.5",
         "21",
         "1",
         "0",
         "0",
         "3020",
         "0.6769444440000001",
         "0.211111111",
         "0.072777778",
         "0.0",
         "0.344722222",
         "0.120555556",
         "1",
         "0.167777778",
         "3.0",
         "0.44",
         "0.0",
         "0.145695"
        ],
        [
         "2",
         "46",
         "12",
         "0",
         "0",
         "4",
         "3",
         "1",
         "5",
         "0.0",
         "1",
         "2012",
         "4",
         "1",
         "7",
         "10.75",
         "64",
         "0",
         "1",
         "1",
         "1443",
         "0.334722222",
         "0.114722222",
         "0.136388889",
         "0.0",
         "0.070277778",
         "0.0",
         "0",
         "0.072222222",
         "0.0",
         "0.24",
         "0.0",
         "0.107692"
        ],
        [
         "3",
         "53",
         "12",
         "1",
         "3",
         "4",
         "3",
         "2",
         "1",
         "1.0",
         "1",
         "2012",
         "4",
         "1",
         "7",
         "11.75",
         "56",
         "1",
         "1",
         "1",
         "1274",
         "0.297777778",
         "0.097222222",
         "0.0825",
         "0.0",
         "0.061944444",
         "0.0",
         "0",
         "0.0625",
         "1.5",
         "0.17",
         "0.0",
         "0.124444"
        ],
        [
         "4",
         "65",
         "13",
         "1",
         "3",
         "3",
         "5",
         "1",
         "5",
         "0.0",
         "1",
         "2012",
         "4",
         "1",
         "7",
         "18.0",
         "64",
         "0",
         "1",
         "1",
         "14470",
         "3.338888889",
         "1.082222222",
         "0.050833333",
         "0.2166666669999999",
         "0.590555556",
         "0.237777778",
         "2",
         "0.863888889",
         "0.0",
         "2.6",
         "0.0",
         "0.675884"
        ]
       ],
       "shape": {
        "columns": 32,
        "rows": 5
       }
      },
      "text/html": [
       "<div>\n",
       "<style scoped>\n",
       "    .dataframe tbody tr th:only-of-type {\n",
       "        vertical-align: middle;\n",
       "    }\n",
       "\n",
       "    .dataframe tbody tr th {\n",
       "        vertical-align: top;\n",
       "    }\n",
       "\n",
       "    .dataframe thead th {\n",
       "        text-align: right;\n",
       "    }\n",
       "</style>\n",
       "<table border=\"1\" class=\"dataframe\">\n",
       "  <thead>\n",
       "    <tr style=\"text-align: right;\">\n",
       "      <th></th>\n",
       "      <th>trip_id</th>\n",
       "      <th>household_id</th>\n",
       "      <th>person_n</th>\n",
       "      <th>trip_n</th>\n",
       "      <th>travel_mode</th>\n",
       "      <th>purpose</th>\n",
       "      <th>fueltype</th>\n",
       "      <th>faretype</th>\n",
       "      <th>bus_scale</th>\n",
       "      <th>survey_year</th>\n",
       "      <th>...</th>\n",
       "      <th>dur_pt_access</th>\n",
       "      <th>dur_pt_rail</th>\n",
       "      <th>dur_pt_bus</th>\n",
       "      <th>dur_pt_int</th>\n",
       "      <th>pt_interchanges</th>\n",
       "      <th>dur_driving</th>\n",
       "      <th>cost_transit</th>\n",
       "      <th>cost_driving_fuel</th>\n",
       "      <th>cost_driving_ccharge</th>\n",
       "      <th>driving_traffic_percent</th>\n",
       "    </tr>\n",
       "  </thead>\n",
       "  <tbody>\n",
       "    <tr>\n",
       "      <th>0</th>\n",
       "      <td>13</td>\n",
       "      <td>1</td>\n",
       "      <td>1</td>\n",
       "      <td>1</td>\n",
       "      <td>4</td>\n",
       "      <td>3</td>\n",
       "      <td>1</td>\n",
       "      <td>5</td>\n",
       "      <td>0.0</td>\n",
       "      <td>1</td>\n",
       "      <td>...</td>\n",
       "      <td>0.241389</td>\n",
       "      <td>0.000000</td>\n",
       "      <td>0.122222</td>\n",
       "      <td>0.000000</td>\n",
       "      <td>0</td>\n",
       "      <td>0.132222</td>\n",
       "      <td>0.0</td>\n",
       "      <td>0.50</td>\n",
       "      <td>0.0</td>\n",
       "      <td>0.065126</td>\n",
       "    </tr>\n",
       "    <tr>\n",
       "      <th>1</th>\n",
       "      <td>43</td>\n",
       "      <td>10</td>\n",
       "      <td>0</td>\n",
       "      <td>0</td>\n",
       "      <td>3</td>\n",
       "      <td>3</td>\n",
       "      <td>6</td>\n",
       "      <td>1</td>\n",
       "      <td>1.0</td>\n",
       "      <td>1</td>\n",
       "      <td>...</td>\n",
       "      <td>0.072778</td>\n",
       "      <td>0.000000</td>\n",
       "      <td>0.344722</td>\n",
       "      <td>0.120556</td>\n",
       "      <td>1</td>\n",
       "      <td>0.167778</td>\n",
       "      <td>3.0</td>\n",
       "      <td>0.44</td>\n",
       "      <td>0.0</td>\n",
       "      <td>0.145695</td>\n",
       "    </tr>\n",
       "    <tr>\n",
       "      <th>2</th>\n",
       "      <td>46</td>\n",
       "      <td>12</td>\n",
       "      <td>0</td>\n",
       "      <td>0</td>\n",
       "      <td>4</td>\n",
       "      <td>3</td>\n",
       "      <td>1</td>\n",
       "      <td>5</td>\n",
       "      <td>0.0</td>\n",
       "      <td>1</td>\n",
       "      <td>...</td>\n",
       "      <td>0.136389</td>\n",
       "      <td>0.000000</td>\n",
       "      <td>0.070278</td>\n",
       "      <td>0.000000</td>\n",
       "      <td>0</td>\n",
       "      <td>0.072222</td>\n",
       "      <td>0.0</td>\n",
       "      <td>0.24</td>\n",
       "      <td>0.0</td>\n",
       "      <td>0.107692</td>\n",
       "    </tr>\n",
       "    <tr>\n",
       "      <th>3</th>\n",
       "      <td>53</td>\n",
       "      <td>12</td>\n",
       "      <td>1</td>\n",
       "      <td>3</td>\n",
       "      <td>4</td>\n",
       "      <td>3</td>\n",
       "      <td>2</td>\n",
       "      <td>1</td>\n",
       "      <td>1.0</td>\n",
       "      <td>1</td>\n",
       "      <td>...</td>\n",
       "      <td>0.082500</td>\n",
       "      <td>0.000000</td>\n",
       "      <td>0.061944</td>\n",
       "      <td>0.000000</td>\n",
       "      <td>0</td>\n",
       "      <td>0.062500</td>\n",
       "      <td>1.5</td>\n",
       "      <td>0.17</td>\n",
       "      <td>0.0</td>\n",
       "      <td>0.124444</td>\n",
       "    </tr>\n",
       "    <tr>\n",
       "      <th>4</th>\n",
       "      <td>65</td>\n",
       "      <td>13</td>\n",
       "      <td>1</td>\n",
       "      <td>3</td>\n",
       "      <td>3</td>\n",
       "      <td>5</td>\n",
       "      <td>1</td>\n",
       "      <td>5</td>\n",
       "      <td>0.0</td>\n",
       "      <td>1</td>\n",
       "      <td>...</td>\n",
       "      <td>0.050833</td>\n",
       "      <td>0.216667</td>\n",
       "      <td>0.590556</td>\n",
       "      <td>0.237778</td>\n",
       "      <td>2</td>\n",
       "      <td>0.863889</td>\n",
       "      <td>0.0</td>\n",
       "      <td>2.60</td>\n",
       "      <td>0.0</td>\n",
       "      <td>0.675884</td>\n",
       "    </tr>\n",
       "  </tbody>\n",
       "</table>\n",
       "<p>5 rows × 32 columns</p>\n",
       "</div>"
      ],
      "text/plain": [
       "   trip_id  household_id  person_n  trip_n  travel_mode  purpose  fueltype  \\\n",
       "0       13             1         1       1            4        3         1   \n",
       "1       43            10         0       0            3        3         6   \n",
       "2       46            12         0       0            4        3         1   \n",
       "3       53            12         1       3            4        3         2   \n",
       "4       65            13         1       3            3        5         1   \n",
       "\n",
       "   faretype  bus_scale  survey_year  ...  dur_pt_access  dur_pt_rail  \\\n",
       "0         5        0.0            1  ...       0.241389     0.000000   \n",
       "1         1        1.0            1  ...       0.072778     0.000000   \n",
       "2         5        0.0            1  ...       0.136389     0.000000   \n",
       "3         1        1.0            1  ...       0.082500     0.000000   \n",
       "4         5        0.0            1  ...       0.050833     0.216667   \n",
       "\n",
       "   dur_pt_bus  dur_pt_int  pt_interchanges  dur_driving  cost_transit  \\\n",
       "0    0.122222    0.000000                0     0.132222           0.0   \n",
       "1    0.344722    0.120556                1     0.167778           3.0   \n",
       "2    0.070278    0.000000                0     0.072222           0.0   \n",
       "3    0.061944    0.000000                0     0.062500           1.5   \n",
       "4    0.590556    0.237778                2     0.863889           0.0   \n",
       "\n",
       "   cost_driving_fuel  cost_driving_ccharge  driving_traffic_percent  \n",
       "0               0.50                   0.0                 0.065126  \n",
       "1               0.44                   0.0                 0.145695  \n",
       "2               0.24                   0.0                 0.107692  \n",
       "3               0.17                   0.0                 0.124444  \n",
       "4               2.60                   0.0                 0.675884  \n",
       "\n",
       "[5 rows x 32 columns]"
      ]
     },
     "execution_count": 80,
     "metadata": {},
     "output_type": "execute_result"
    }
   ],
   "source": [
    "DATA_FOLDER = 'data/'\n",
    "data = pd.read_csv(DATA_FOLDER + 'lpmc09.dat', sep='\\t')\n",
    "data.head()"
   ]
  },
  {
   "cell_type": "markdown",
   "id": "85efac74",
   "metadata": {},
   "source": [
    "### **<u>II/ Model 0</u>**\n",
    "\n",
    "**Description:**\n",
    "- This model includes alternative specific constant, cost and travel time for each alternative.\n",
    "- Cost and travel time are associated with generic parameters.\n",
    "\n",
    "#### **1 - Creation of the model**"
   ]
  },
  {
   "cell_type": "code",
   "execution_count": 81,
   "id": "eec7c284",
   "metadata": {},
   "outputs": [],
   "source": [
    "# Create the Biogeme database\n",
    "database = db.Database(\"lpmc09\", data)\n",
    "\n",
    "# Define the base variables\n",
    "travel_mode = Variable('travel_mode')\n",
    "dur_walking = Variable('dur_walking')\n",
    "dur_cycling = Variable('dur_cycling')\n",
    "dur_pt_bus = Variable('dur_pt_bus')\n",
    "dur_pt_access = Variable('dur_pt_access')\n",
    "dur_pt_int = Variable('dur_pt_int')\n",
    "dur_driving = Variable('dur_driving')\n",
    "cost_transit = Variable('cost_transit')\n",
    "cost_driving_fuel = Variable('cost_driving_fuel')\n",
    "cost_driving_ccharge = Variable('cost_driving_ccharge')\n",
    "\n",
    "# Create new variables\n",
    "dur_pt_tot = dur_pt_bus + dur_pt_access + dur_pt_int\n",
    "cost_drive = cost_driving_fuel + cost_driving_ccharge\n",
    "\n",
    "# Define the ASC to be estimated\n",
    "asc_pt = Beta('asc_pt', 0, None, None, 0)\n",
    "asc_cycling = Beta('asc_cycling', 0, None, None, 0)\n",
    "asc_driving = Beta('asc_driving', 0, None, None, 0)\n",
    "\n",
    "# Define the Betas to be estimated\n",
    "beta_cost = Beta('beta_cost', 0, None, None, 0)\n",
    "beta_time = Beta('beta_time', 0, None, None, 0)\n",
    "\n",
    "# Define the utility functions per alternative\n",
    "v_walking = dur_walking * beta_time\n",
    "v_cycling = asc_cycling + dur_cycling * beta_time\n",
    "v_pt = asc_pt + dur_pt_tot * beta_time + cost_transit * beta_cost\n",
    "v_drive = asc_driving + dur_driving * beta_time + cost_drive * beta_cost\n",
    "\n",
    "# Define the association between alternatives and utility functions\n",
    "V = {1: v_walking,\n",
    "     2: v_cycling,\n",
    "     3: v_pt,\n",
    "     4: v_drive}\n",
    "logprob = models.loglogit(V, None, travel_mode)\n",
    "\n",
    "# Initialisation of the Biogeme object\n",
    "model_0 = bio.BIOGEME(database, logprob)\n",
    "model_0.model_name = 'model_0'"
   ]
  },
  {
   "cell_type": "markdown",
   "id": "c2f377a6",
   "metadata": {},
   "source": [
    "#### **2 - Estimating the model's results**"
   ]
  },
  {
   "cell_type": "code",
   "execution_count": 82,
   "id": "50c7dd11",
   "metadata": {},
   "outputs": [
    {
     "name": "stdout",
     "output_type": "stream",
     "text": [
      "Number of estimated parameters             5\n",
      "Sample size                                5000\n",
      "Excluded observations                      0\n",
      "Init log likelihood                        -4552.633\n",
      "Final log likelihood                       -4552.633\n",
      "Likelihood ratio test for the init. model  -0\n",
      "Rho-square for the init. model             0\n",
      "Rho-square-bar for the init. model         -0.0011\n",
      "Akaike Information Criterion               9115.265\n",
      "Bayesian Information Criterion             9147.851\n",
      "Final gradient norm                        1.8474E-05\n",
      "Bootstrapping time                         None\n"
     ]
    }
   ],
   "source": [
    "results_model_0 = model_0.estimate()\n",
    "general_statistics_model_0 = results_model_0.print_general_statistics()\n",
    "print(general_statistics_model_0)"
   ]
  },
  {
   "cell_type": "code",
   "execution_count": 83,
   "id": "d9634fe0",
   "metadata": {},
   "outputs": [
    {
     "data": {
      "text/plain": [
       "'Number of estimated parameters             5\\nSample size                                5000\\nExcluded observations                      0\\nInit log likelihood                        -4552.633\\nFinal log likelihood                       -4552.633\\nLikelihood ratio test for the init. model  -0\\nRho-square for the init. model             0\\nRho-square-bar for the init. model         -0.0011\\nAkaike Information Criterion               9115.265\\nBayesian Information Criterion             9147.851\\nFinal gradient norm                        1.8474E-05\\nBootstrapping time                         None'"
      ]
     },
     "execution_count": 83,
     "metadata": {},
     "output_type": "execute_result"
    }
   ],
   "source": [
    "general_statistics_model_0"
   ]
  },
  {
   "cell_type": "code",
   "execution_count": 84,
   "id": "0b134062",
   "metadata": {},
   "outputs": [
    {
     "name": "stdout",
     "output_type": "stream",
     "text": [
      "23\n"
     ]
    }
   ],
   "source": [
    "print(len(\"                       \"))"
   ]
  },
  {
   "cell_type": "code",
   "execution_count": 85,
   "id": "dd6edca4",
   "metadata": {},
   "outputs": [
    {
     "data": {
      "application/vnd.microsoft.datawrangler.viewer.v0+json": {
       "columns": [
        {
         "name": "index",
         "rawType": "int64",
         "type": "integer"
        },
        {
         "name": "Name",
         "rawType": "object",
         "type": "string"
        },
        {
         "name": "Value",
         "rawType": "float64",
         "type": "float"
        },
        {
         "name": "Robust std err.",
         "rawType": "float64",
         "type": "float"
        },
        {
         "name": "Robust t-stat.",
         "rawType": "float64",
         "type": "float"
        },
        {
         "name": "Robust p-value",
         "rawType": "float64",
         "type": "float"
        }
       ],
       "ref": "5cad8048-7acc-4ff9-9715-16e512b977f8",
       "rows": [
        [
         "0",
         "beta_time",
         "-4.374887694462255",
         "0.16454887229944556",
         "-26.587163031423557",
         "0.0"
        ],
        [
         "1",
         "asc_cycling",
         "-3.351220582243177",
         "0.09997306007424989",
         "-33.52123641863347",
         "0.0"
        ],
        [
         "2",
         "asc_pt",
         "-0.6413548042400419",
         "0.05847132569530999",
         "-10.96870639776661",
         "0.0"
        ],
        [
         "3",
         "beta_cost",
         "-0.1377827502054028",
         "0.013933667611051912",
         "-9.88847689291197",
         "0.0"
        ],
        [
         "4",
         "asc_driving",
         "-0.7350675879725719",
         "0.06772211012021737",
         "-10.854174311280492",
         "0.0"
        ]
       ],
       "shape": {
        "columns": 5,
        "rows": 5
       }
      },
      "text/html": [
       "<div>\n",
       "<style scoped>\n",
       "    .dataframe tbody tr th:only-of-type {\n",
       "        vertical-align: middle;\n",
       "    }\n",
       "\n",
       "    .dataframe tbody tr th {\n",
       "        vertical-align: top;\n",
       "    }\n",
       "\n",
       "    .dataframe thead th {\n",
       "        text-align: right;\n",
       "    }\n",
       "</style>\n",
       "<table border=\"1\" class=\"dataframe\">\n",
       "  <thead>\n",
       "    <tr style=\"text-align: right;\">\n",
       "      <th></th>\n",
       "      <th>Name</th>\n",
       "      <th>Value</th>\n",
       "      <th>Robust std err.</th>\n",
       "      <th>Robust t-stat.</th>\n",
       "      <th>Robust p-value</th>\n",
       "    </tr>\n",
       "  </thead>\n",
       "  <tbody>\n",
       "    <tr>\n",
       "      <th>0</th>\n",
       "      <td>beta_time</td>\n",
       "      <td>-4.374888</td>\n",
       "      <td>0.164549</td>\n",
       "      <td>-26.587163</td>\n",
       "      <td>0.0</td>\n",
       "    </tr>\n",
       "    <tr>\n",
       "      <th>1</th>\n",
       "      <td>asc_cycling</td>\n",
       "      <td>-3.351221</td>\n",
       "      <td>0.099973</td>\n",
       "      <td>-33.521236</td>\n",
       "      <td>0.0</td>\n",
       "    </tr>\n",
       "    <tr>\n",
       "      <th>2</th>\n",
       "      <td>asc_pt</td>\n",
       "      <td>-0.641355</td>\n",
       "      <td>0.058471</td>\n",
       "      <td>-10.968706</td>\n",
       "      <td>0.0</td>\n",
       "    </tr>\n",
       "    <tr>\n",
       "      <th>3</th>\n",
       "      <td>beta_cost</td>\n",
       "      <td>-0.137783</td>\n",
       "      <td>0.013934</td>\n",
       "      <td>-9.888477</td>\n",
       "      <td>0.0</td>\n",
       "    </tr>\n",
       "    <tr>\n",
       "      <th>4</th>\n",
       "      <td>asc_driving</td>\n",
       "      <td>-0.735068</td>\n",
       "      <td>0.067722</td>\n",
       "      <td>-10.854174</td>\n",
       "      <td>0.0</td>\n",
       "    </tr>\n",
       "  </tbody>\n",
       "</table>\n",
       "</div>"
      ],
      "text/plain": [
       "          Name     Value  Robust std err.  Robust t-stat.  Robust p-value\n",
       "0    beta_time -4.374888         0.164549      -26.587163             0.0\n",
       "1  asc_cycling -3.351221         0.099973      -33.521236             0.0\n",
       "2       asc_pt -0.641355         0.058471      -10.968706             0.0\n",
       "3    beta_cost -0.137783         0.013934       -9.888477             0.0\n",
       "4  asc_driving -0.735068         0.067722      -10.854174             0.0"
      ]
     },
     "execution_count": 85,
     "metadata": {},
     "output_type": "execute_result"
    }
   ],
   "source": [
    "get_pandas_estimated_parameters(estimation_results=results_model_0)"
   ]
  },
  {
   "cell_type": "markdown",
   "id": "c82177b2",
   "metadata": {},
   "source": [
    "#### **3 - Results analysis**\n",
    "##### a - Overall Model Fit\n",
    "- **Log-likelihood**: The initial log-likelihood is **-6931.472**, and the final log-likelihood is **-4552.633**. The improvement suggests the model fits the data better after estimation.\n",
    "- **Likelihood Ratio Test**: The value is **4757.678**, which is high, indicating a significant improvement in model fit compared to the null model (no predictors).\n",
    "- **Rho-square (Pseudo R²)**: Both the **Rho-square for the init. model (0.343)** and the **Rho-square-bar for the init. model (0.342)** suggest that about 34% of the variation in the dependent variable is explained by the model, which is a moderate level of explanatory power.\n",
    "- **AIC and BIC**: The **Akaike Information Criterion (9115.265)** and **Bayesian Information Criterion (9147.851)** are provided for model comparison. Lower values indicate better fit, but without comparison to other models, their absolute values are less interpretable.\n",
    "\n",
    "##### b - Interpretation of Parameter Signs\n",
    "- **beta_time (-4.37)**: The negative sign indicates that as the time variable increases, the utility decreases. This is intuitive: people generally prefer options that take less time.\n",
    "- **asc_cycling (-3.35)**: The negative sign for the alternative-specific constant (ASC) for cycling suggests that, all else being equal, individuals have a lower inherent preference for cycling compared to the base alternative.\n",
    "- **asc_pt (-0.64)**: The negative ASC for public transport (PT) indicates a lower inherent preference for public transport compared to the base alternative.\n",
    "- **beta_cost (-0.14)**: The negative sign for cost means that as the cost increases, the utility decreases. This is expected, as people prefer cheaper options.\n",
    "- **asc_driving (-0.74)**: The negative ASC for driving suggests a lower inherent preference for driving compared to the base alternative.\n",
    "\n",
    "##### c - Statistical Significance\n",
    "- **Robust p-values**: All parameters have **p-values of 0.0**, which means they are **statistically significant** at any conventional level.\n",
    "- **Robust t-statistics**: All t-statistics are far from zero (absolute values much greater than 2), further confirming the statistical significance of each parameter."
   ]
  },
  {
   "cell_type": "markdown",
   "id": "43c89639",
   "metadata": {},
   "source": [
    "### **<u>III/ Model 1</u>**\n",
    "\n",
    "**Description:**\n",
    "- This model turns the parameter of time from a generic one into an alternative specific one.\n",
    "\n",
    "#### **0 - Creation of the model**"
   ]
  },
  {
   "cell_type": "code",
   "execution_count": 86,
   "id": "50bb150a",
   "metadata": {},
   "outputs": [],
   "source": [
    "# Define alternative-specific time Betas\n",
    "beta_time_walk = Beta('beta_time_walk', 0, None, None, 0)\n",
    "beta_time_cycling = Beta('beta_time_cycling', 0, None, None, 0)\n",
    "beta_time_pt = Beta('beta_time_pt', 0, None, None, 0)\n",
    "beta_time_drive = Beta('beta_time_drive', 0, None, None, 0)\n",
    "\n",
    "# Utilities with alternative-specific time parameters\n",
    "v_walking = dur_walking * beta_time_walk\n",
    "v_cycling = asc_cycling + dur_cycling * beta_time_cycling\n",
    "v_pt = asc_pt + dur_pt_tot * beta_time_pt + cost_transit * beta_cost\n",
    "v_drive = asc_driving + dur_driving * beta_time_drive + cost_drive * beta_cost\n",
    "\n",
    "# Association and estimation\n",
    "V = {1: v_walking,\n",
    "     2: v_cycling,\n",
    "     3: v_pt,\n",
    "     4: v_drive}\n",
    "logprob = models.loglogit(V, None, travel_mode)\n",
    "\n",
    "model_1 = bio.BIOGEME(database, logprob)\n",
    "model_1.model_name = 'model_1'\n"
   ]
  },
  {
   "cell_type": "markdown",
   "id": "e82dda8a",
   "metadata": {},
   "source": [
    "#### **1 - Underlying assumption for alternative-specific time parameters**\n",
    "\n",
    "Defining separate time parameters for each alternative implies that travellers value travel time differently depending on the mode.\n",
    "For instance, a minute spent walking may be perceived as more onerous than a minute spent on public transport.\n",
    "This specification lets the marginal disutility (or sensitivity) to travel time vary by mode, capturing mode-specific perceptions of time."
   ]
  },
  {
   "cell_type": "markdown",
   "id": "f6945745",
   "metadata": {},
   "source": [
    "#### **2 - Estimating the model's results**\n",
    "\n",
    "##### **a/ Coding the estimation**"
   ]
  },
  {
   "cell_type": "code",
   "execution_count": 87,
   "id": "f0e2ff01",
   "metadata": {},
   "outputs": [
    {
     "name": "stdout",
     "output_type": "stream",
     "text": [
      "Number of estimated parameters             8\n",
      "Sample size                                5000\n",
      "Excluded observations                      0\n",
      "Init log likelihood                        -4338.658\n",
      "Final log likelihood                       -4338.658\n",
      "Likelihood ratio test for the init. model  -0\n",
      "Rho-square for the init. model             0\n",
      "Rho-square-bar for the init. model         -0.00184\n",
      "Akaike Information Criterion               8693.316\n",
      "Bayesian Information Criterion             8745.453\n",
      "Final gradient norm                        6.5342E-05\n",
      "Bootstrapping time                         None\n",
      "                Name     Value  Robust std err.  Robust t-stat.  \\\n",
      "0     beta_time_walk -7.595577         0.409546      -18.546347   \n",
      "1        asc_cycling -4.370240         0.196393      -22.252548   \n",
      "2  beta_time_cycling -4.354759         0.457139       -9.526126   \n",
      "3             asc_pt -2.486912         0.141213      -17.611026   \n",
      "4       beta_time_pt -1.981675         0.171941      -11.525341   \n",
      "5          beta_cost -0.154665         0.013395      -11.546453   \n",
      "6        asc_driving -1.918849         0.140329      -13.673965   \n",
      "7    beta_time_drive -3.456668         0.222864      -15.510187   \n",
      "\n",
      "   Robust p-value  \n",
      "0             0.0  \n",
      "1             0.0  \n",
      "2             0.0  \n",
      "3             0.0  \n",
      "4             0.0  \n",
      "5             0.0  \n",
      "6             0.0  \n",
      "7             0.0  \n"
     ]
    }
   ],
   "source": [
    "# Estimate and display results\n",
    "results_model_1 = model_1.estimate()\n",
    "general_statistics_model_1 = results_model_1.print_general_statistics()\n",
    "print(general_statistics_model_1)\n",
    "parameters_model_1 = get_pandas_estimated_parameters(estimation_results=results_model_1)\n",
    "print(parameters_model_1)"
   ]
  },
  {
   "cell_type": "markdown",
   "id": "4c049351",
   "metadata": {},
   "source": [
    "##### **b/ Results interpretation**\n",
    "\n",
    "- The `general statistics` of the model suggests that it has a small explanatory power It is only slightly better than the model 0, but still better.\n",
    "- Compared to the original `beta_time` (~ -4.375), the `beta_time_walk` is almost two times bigger (~ -7.596). This suggests that walking becomes even less attractive as time increases than it normally does.\n",
    "- `beta_time_cycling` is very close to the original. This calls for the same interpretation as the model 0's parameter.\n",
    "- `beta_time_drive` is lower than the original. Meaning that driving will be less unattractive because of travel time increase than average.\n",
    "- `beta_time_pt` is even lower which suggests an even lower unattraction to public transport because of travel time increase.\n",
    "- `asc_pt` and `asc_driving` increase the basic unattractivity of these modes as they respectively tripled and quadrupled.\n",
    "- `asc_cycling` however remains fairly close to the model 0 estimation (0: ~ -3.351 vs ~ -4.370 :1). The same goes for `beta_cost`  (0: ~ -0.138 vs ~ -0.155 :1).\n",
    "- All parameters estimated in model 1 are `statistically significant` as they all have **Robust t-stats**<-10 (except `beta_time_cycling` which is at -9.5 -very close-) and their **Robust p-values** are 0.0."
   ]
  },
  {
   "cell_type": "markdown",
   "id": "70d6f08c",
   "metadata": {},
   "source": [
    "#### **3 - Comparing `Model 0` and `Model 1`**\n",
    "\n",
    "##### **a/ Choice of statistical test**\n",
    "\n",
    "To compare **Model 0** and **Model 1**, we need to test whether the added parameters in Model 1 (alternative-specific ones) significantly improve the fit of the model compared to Model 0.\n",
    "Both models are **nested** — Model 0 is a restricted version of Model 1 (obtained by constraining some parameters to be equal across alternatives).\n",
    "\n",
    "The appropriate test is therefore a **Likelihood Ratio Test (LRT)**.\n",
    "\n",
    "**Test statistic:**\n",
    "[\n",
    "LR = -2 \\times [LL_0 - LL_1]\n",
    "]\n",
    "where\n",
    "\n",
    "* (LL_0) = log-likelihood of Model 0,\n",
    "* (LL_1) = log-likelihood of Model 1.\n",
    "\n",
    "The statistic follows a **χ² (chi-square) distribution** with degrees of freedom equal to the difference in the number of parameters between the two models ((df = k_1 - k_0)).\n",
    "\n",
    "**Null hypothesis (H₀):**\n",
    "The more complex Model 1 does *not* provide a statistically significant improvement in fit over Model 0 — i.e. the parameters added in Model 1 are jointly equal to zero.\n",
    "[\n",
    "H_0: \\beta_{\\text{new}} = 0\n",
    "]\n",
    "\n",
    "**Alternative hypothesis (H₁):**\n",
    "At least one of the new parameters improves the model fit.\n",
    "\n",
    "**Expected result:**\n",
    "Since Model 1 introduces alternative-specific parameters, we expect a better fit — that is, a higher log-likelihood and a significant LR statistic (p < 0.05).\n",
    "Hence, Model 1 is expected to be preferred."
   ]
  },
  {
   "cell_type": "code",
   "execution_count": 88,
   "id": "24b3ead9",
   "metadata": {},
   "outputs": [
    {
     "name": "stdout",
     "output_type": "stream",
     "text": [
      "|Final log likelihood| was found 1 time(s) in the string.\n",
      "|Final log likelihood| was found 1 time(s) in the string.\n",
      "|Number of estimated parameters| was found 1 time(s) in the string.\n",
      "|Number of estimated parameters| was found 1 time(s) in the string.\n",
      "--- Likelihood Ratio Test ---\n",
      "Log-likelihood (Model 0): -4552.630\n",
      "Log-likelihood (Model 1): -4338.650\n",
      "LR statistic: 427.960\n",
      "Degrees of freedom: 3\n",
      "p-value: 0.0000\n",
      "Reject H0 → Model 1 significantly improves the fit. Model 1 is preferred.\n"
     ]
    }
   ],
   "source": [
    "# --- Likelihood Ratio Test between Model 0 and Model 1 ---\n",
    "\n",
    "import scipy.stats as stats\n",
    "from functions.find_word_in_str import find_word_in_str\n",
    "\n",
    "# Retrieve general statistics from both estimated models\n",
    "LL0_start_index = find_word_in_str(total_str=general_statistics_model_0, key='Final log likelihood')[0][1] + 23\n",
    "LL1_start_index = find_word_in_str(total_str=general_statistics_model_1, key='Final log likelihood')[0][1] + 23\n",
    "LL0_end_index = LL0_start_index+8\n",
    "LL1_end_index = LL1_start_index+8\n",
    "LL0 = float(general_statistics_model_0[LL0_start_index:LL0_end_index])\n",
    "LL1 = float(general_statistics_model_1[LL1_start_index:LL1_end_index])\n",
    "\n",
    "# Retrieve number of estimated parameters for each model\n",
    "k0_index = find_word_in_str(total_str=general_statistics_model_0, key='Number of estimated parameters')[0][1] + 13\n",
    "k1_index = find_word_in_str(total_str=general_statistics_model_1, key='Number of estimated parameters')[0][1] + 13\n",
    "k0 = int(general_statistics_model_0[k0_index])\n",
    "k1 = int(general_statistics_model_1[k1_index])\n",
    "\n",
    "# Compute the Likelihood Ratio (LR) statistic\n",
    "LR = -2 * (LL0 - LL1)\n",
    "\n",
    "# Degrees of freedom (difference in number of parameters)\n",
    "dif = k1 - k0\n",
    "\n",
    "# Compute the p-value using the chi-square distribution\n",
    "p_value = 1 - stats.chi2.cdf(LR, dif)\n",
    "\n",
    "# Print results\n",
    "print(f\"--- Likelihood Ratio Test ---\")\n",
    "print(f\"Log-likelihood (Model 0): {LL0:.3f}\")\n",
    "print(f\"Log-likelihood (Model 1): {LL1:.3f}\")\n",
    "print(f\"LR statistic: {LR:.3f}\")\n",
    "print(f\"Degrees of freedom: {dif}\")\n",
    "print(f\"p-value: {p_value:.4f}\")\n",
    "\n",
    "# Decision rule at 5% significance level\n",
    "if p_value < 0.05:\n",
    "    print(\"Reject H0 → Model 1 significantly improves the fit. Model 1 is preferred.\")\n",
    "    model_pref = model_1\n",
    "else:\n",
    "    print(\"Fail to reject H0 → Model 1 does not significantly improve the fit. Keep Model 0.\")\n",
    "    model_pref = model_0\n"
   ]
  },
  {
   "cell_type": "markdown",
   "id": "a0323959",
   "metadata": {},
   "source": [
    "##### **c/ Results interpretation**\n",
    "\n",
    "There are two possible outcomes:\n",
    "\n",
    "<u>Case 1 — Model 1 is preferred (Reject H₀):</u>\n",
    "\n",
    "* The **LR statistic** is large enough (p < 0.05), meaning that the likelihood improvement due to the additional parameters is statistically significant.\n",
    "* This indicates that allowing **alternative-specific parameters** captures real differences in travelers’ sensitivities across modes.\n",
    "* **Model 1 becomes Model_pref**, i.e. the preferred model for the next steps.\n",
    "\n",
    "<u>Case 2 — Model 1 is *not* preferred (Fail to reject H₀):</u>\n",
    "\n",
    "* The **LR statistic** is small (p ≥ 0.05), meaning that the improvement in fit is not statistically significant.\n",
    "* In that case, the more complex Model 1 does not justify its additional parameters.\n",
    "* **Model 0 remains Model_pref**.\n",
    "\n",
    "<u>Quantifying the degree of preference</u>\n",
    "\n",
    "The **magnitude of the LR statistic** (and its corresponding **p-value**) tells you *how strongly* Model 1 is preferred:\n",
    "\n",
    "* A **large LR value** (e.g. > 6 for df = 1, > 9 for df = 2) → strong evidence that Model 1 fits significantly better.\n",
    "* A **small LR value** (close to 0) → almost no gain in explanatory power.\n",
    "\n",
    "You can also look at **information criteria** (AIC, BIC) for a secondary check: Lower AIC/BIC values indicate a preferred model while penalizing for complexity."
   ]
  },
  {
   "cell_type": "markdown",
   "id": "c6a4ad93",
   "metadata": {},
   "source": [
    "### **<u>IV/ Model 2</u>**\n",
    "\n",
    "**Description:**\n",
    "- This model \n",
    "\n",
    "#### **1 - Creation of the model**"
   ]
  },
  {
   "cell_type": "code",
   "execution_count": 89,
   "id": "a8baaa5d",
   "metadata": {},
   "outputs": [
    {
     "name": "stdout",
     "output_type": "stream",
     "text": [
      "Number of estimated parameters             10\n",
      "Sample size                                5000\n",
      "Excluded observations                      0\n",
      "Init log likelihood                        -4337.219\n",
      "Final log likelihood                       -4337.219\n",
      "Likelihood ratio test for the init. model  1.818989e-12\n",
      "Rho-square for the init. model             2.22e-16\n",
      "Rho-square-bar for the init. model         -0.00231\n",
      "Akaike Information Criterion               8694.438\n",
      "Bayesian Information Criterion             8759.61\n",
      "Final gradient norm                        1.0089E-03\n",
      "Bootstrapping time                         None\n",
      "                Name     Value  Robust std err.  Robust t-stat.  \\\n",
      "0     beta_time_walk -7.604628         0.409880      -18.553312   \n",
      "1        beta_female  0.077159         0.062418        1.236173   \n",
      "2        asc_cycling -4.372047         0.196648      -22.232825   \n",
      "3  beta_time_cycling -4.374083         0.458487       -9.540250   \n",
      "4             asc_pt -2.438817         0.147399      -16.545698   \n",
      "5       beta_time_pt -1.997628         0.173239      -11.531036   \n",
      "6          beta_cost -0.149366         0.013516      -11.051090   \n",
      "7     beta_bus_scale -0.090792         0.074401       -1.220308   \n",
      "8        asc_driving -1.874695         0.143716      -13.044400   \n",
      "9    beta_time_drive -3.520204         0.228099      -15.432758   \n",
      "\n",
      "   Robust p-value  \n",
      "0        0.000000  \n",
      "1        0.216394  \n",
      "2        0.000000  \n",
      "3        0.000000  \n",
      "4        0.000000  \n",
      "5        0.000000  \n",
      "6        0.000000  \n",
      "7        0.222348  \n",
      "8        0.000000  \n",
      "9        0.000000  \n"
     ]
    }
   ],
   "source": [
    "# add the additional variables\n",
    "bus_scale = Variable('bus_scale')\n",
    "female = Variable('female')\n",
    "\n",
    "# Define the ASC to be estimated\n",
    "asc_pt = Beta('asc_pt', 0, None, None, 0)\n",
    "asc_cycling = Beta('asc_cycling', 0, None, None, 0)\n",
    "asc_driving = Beta('asc_driving', 0, None, None, 0)\n",
    "\n",
    "# Define the Betas to be estimated\n",
    "beta_cost = Beta('beta_cost', 0, None, None, 0)\n",
    "beta_time_walk = Beta('beta_time_walk', 0, None, None, 0)\n",
    "beta_time_cycling = Beta('beta_time_cycling', 0, None, None, 0)\n",
    "beta_time_pt = Beta('beta_time_pt', 0, None, None, 0)\n",
    "beta_time_drive = Beta('beta_time_drive', 0, None, None, 0)\n",
    "beta_female = Beta('beta_female', 0, None, None, 0)\n",
    "beta_bus_scale = Beta('beta_bus_scale', 0, None, None, 0)\n",
    "\n",
    "# Define the utility functions\n",
    "v_walking = dur_walking * beta_time_walk + beta_female * female\n",
    "v_cycling = asc_cycling + dur_cycling * beta_time_cycling + beta_female * female\n",
    "v_pt = asc_pt + dur_pt_tot * beta_time_pt + cost_transit * beta_cost + beta_bus_scale * bus_scale + beta_female * female\n",
    "v_drive = asc_driving + dur_driving * beta_time_drive + cost_drive * beta_cost\n",
    "\n",
    "# Define the association between alternatives and utility functions\n",
    "V = {1: v_walking,\n",
    "     2: v_cycling,\n",
    "     3: v_pt,\n",
    "     4: v_drive}\n",
    "logprob2 = models.loglogit(V, None, travel_mode)\n",
    "\n",
    "# Initialisation of the Biogeme object\n",
    "biogeme = bio.BIOGEME(database, logprob2)\n",
    "biogeme.model_name = 'model_2'\n",
    "\n",
    "# Results\n",
    "results_model_2 = biogeme.estimate()\n",
    "print(results_model_2.print_general_statistics())\n",
    "parameters_model_2 = get_pandas_estimated_parameters(estimation_results=results_model_2)\n",
    "print(parameters_model_2)"
   ]
  },
  {
   "cell_type": "markdown",
   "id": "4b73472f",
   "metadata": {},
   "source": [
    "### **<u>V/ Model 3</u>**\n",
    "\n",
    "**Description:**\n",
    "- This model includes an appropriate non-linear transformation of the `cost` variable.\n",
    "\n",
    "#### **1 - Creation of the model**"
   ]
  },
  {
   "cell_type": "markdown",
   "id": "b2ef6e42",
   "metadata": {},
   "source": [
    "##### Underlying assumption of the non-linear specification defined in this situation\n",
    "\n",
    "When the price reaches a certain point, it becomes too expansive for the user whatever the price is after this level, using a logarithm will make the price less significative as the price will increase"
   ]
  },
  {
   "cell_type": "code",
   "execution_count": 90,
   "id": "265be009",
   "metadata": {},
   "outputs": [
    {
     "data": {
      "text/plain": [
       "np.int64(0)"
      ]
     },
     "execution_count": 90,
     "metadata": {},
     "output_type": "execute_result"
    }
   ],
   "source": [
    "data[\"cost_transit\"].isna().sum()"
   ]
  },
  {
   "cell_type": "code",
   "execution_count": 91,
   "id": "f0961fad",
   "metadata": {},
   "outputs": [],
   "source": [
    "# Define variables\n",
    "travel_mode = Variable('travel_mode')\n",
    "dur_walking = Variable('dur_walking')\n",
    "dur_cycling = Variable('dur_cycling')\n",
    "dur_pt_bus = Variable('dur_pt_bus')\n",
    "dur_pt_access = Variable('dur_pt_access')\n",
    "dur_pt_int = Variable('dur_pt_int')\n",
    "dur_driving = Variable('dur_driving')\n",
    "cost_transit = Variable('cost_transit')\n",
    "cost_driving_fuel = Variable('cost_driving_fuel')\n",
    "cost_driving_ccharge = Variable('cost_driving_ccharge')\n",
    "\n",
    "# Create new variables\n",
    "dur_pt_tot = dur_pt_bus + dur_pt_access + dur_pt_int\n",
    "cost_drive = cost_driving_fuel + cost_driving_ccharge\n",
    "\n",
    "# Define the ASC to be estimated\n",
    "asc_pt = Beta('asc_pt', 0, None, None, 0)\n",
    "asc_cycling = Beta('asc_cycling', 0, None, None, 0)\n",
    "asc_driving = Beta('asc_driving', 0, None, None, 0)\n",
    "\n",
    "# Define the Betas to be estimated\n",
    "beta_cost = Beta('beta_cost', 0, None, None, 0)\n",
    "beta_time_walk = Beta('beta_time_walk', 0, None, None, 0)\n",
    "beta_time_cycling = Beta('beta_time_cycling', 0, None, None, 0)\n",
    "beta_time_pt = Beta('beta_time_pt', 0, None, None, 0)\n",
    "beta_time_drive = Beta('beta_time_drive', 0, None, None, 0)\n",
    "\n",
    "# Box-Cox transformation of costs\n",
    "lambda_boxcox = Beta('lambda_boxcox', 1.01, -10, 10, 0) # Can't put 1 as it creates a log and it is impossible due to values equal to 0 in the cost variable\n",
    "boxcox_cost_transit = models.boxcox(cost_transit, lambda_boxcox)\n",
    "boxcox_cost_drive = models.boxcox(cost_drive, lambda_boxcox)\n",
    "\n",
    "# Define the utility functions\n",
    "v_walking = dur_walking * beta_time_walk\n",
    "v_cycling = asc_cycling + dur_cycling * beta_time_cycling\n",
    "v_pt = asc_pt + dur_pt_tot * beta_time_pt + boxcox_cost_transit * beta_cost\n",
    "v_drive = asc_driving + dur_driving * beta_time_drive + boxcox_cost_drive * beta_cost\n",
    "\n",
    "# Define the association between alternatives and utility functions\n",
    "V = {1: v_walking,\n",
    "     2: v_cycling,\n",
    "     3: v_pt,\n",
    "     4: v_drive}\n",
    "\n",
    "# Define the logit model\n",
    "logprob = models.loglogit(V, None, travel_mode)\n",
    "\n",
    "# Initialisation of the Biogeme object\n",
    "model_3 = bio.BIOGEME(database, logprob)\n",
    "model_3.model_name = 'model_3'"
   ]
  },
  {
   "cell_type": "code",
   "execution_count": 92,
   "id": "0968c021",
   "metadata": {},
   "outputs": [
    {
     "name": "stdout",
     "output_type": "stream",
     "text": [
      "Number of estimated parameters             9\n",
      "Sample size                                5000\n",
      "Excluded observations                      0\n",
      "Init log likelihood                        -4338.54\n",
      "Final log likelihood                       -4338.54\n",
      "Likelihood ratio test for the init. model  2.455882e-05\n",
      "Rho-square for the init. model             2.83e-09\n",
      "Rho-square-bar for the init. model         -0.00207\n",
      "Akaike Information Criterion               8695.08\n",
      "Bayesian Information Criterion             8753.734\n",
      "Final gradient norm                        1.1499E-03\n",
      "Bootstrapping time                         None\n",
      "                Name     Value  Robust std err.  Robust t-stat.  \\\n",
      "0     beta_time_walk -7.695582         0.468093      -16.440299   \n",
      "1        asc_cycling -4.399111         0.210551      -20.893369   \n",
      "2  beta_time_cycling -4.486412         0.505014       -8.883743   \n",
      "3             asc_pt -2.584011         0.144489      -17.883785   \n",
      "4       beta_time_pt -2.046115         0.221129       -9.253039   \n",
      "5      lambda_boxcox  0.641443         0.366708        1.749192   \n",
      "6          beta_cost -0.276163         0.139618       -1.977989   \n",
      "7        asc_driving -2.255754         0.301533       -7.480943   \n",
      "8    beta_time_drive -3.233668         0.304125      -10.632704   \n",
      "\n",
      "   Robust p-value  \n",
      "0    0.000000e+00  \n",
      "1    0.000000e+00  \n",
      "2    0.000000e+00  \n",
      "3    0.000000e+00  \n",
      "4    0.000000e+00  \n",
      "5    8.025792e-02  \n",
      "6    4.792991e-02  \n",
      "7    7.371881e-14  \n",
      "8    0.000000e+00  \n"
     ]
    }
   ],
   "source": [
    "results_model_3 = model_3.estimate()\n",
    "print(results_model_3.print_general_statistics())\n",
    "parameters_model_3 = get_pandas_estimated_parameters(estimation_results=results_model_3)\n",
    "print(parameters_model_3)"
   ]
  },
  {
   "cell_type": "markdown",
   "id": "910eb0a6",
   "metadata": {},
   "source": [
    "**Overall Model Fit**\n",
    "- **Log-likelihood**: The initial and final log-likelihood are both **-4553.795**, which is unusual because the final log-likelihood should improve (become less negative) after estimation. This suggests a potential issue with the estimation process or the model specification.\n",
    "- **Likelihood Ratio Test**: The value is **0**, which is unexpected and indicates no improvement over the null model. This is likely due to the identical init and final log-likelihoods.\n",
    "- **Rho-square**: Both values are **0**, indicating that the model does not explain any additional variation compared to the null model. This is unusual and suggests a problem with the model or data.\n",
    "- **AIC and BIC**: The values are **9119.59** and **9158.693**, respectively. These are not directly interpretable without comparison to other models, but given the other metrics, they suggest a poor fit.\n",
    "- **Final Gradient Norm**: The value is **5.0376E-04**, which is close to zero, indicating convergence.\n",
    "\n",
    "\n",
    "**Interpretation of Parameter Signs**\n",
    "- **beta_time (-4.37)**: The negative sign indicates that as the time variable increases, the utility decreases. This is intuitive and expected: people prefer options that take less time.\n",
    "- **asc_cycling (-3.36)**: The negative alternative-specific constant (ASC) for cycling suggests a lower inherent preference for cycling compared to the base alternative.\n",
    "- **asc_pt (-0.72)**: The negative ASC for public transport (PT) indicates a lower inherent preference for public transport compared to the base alternative.\n",
    "- **lambda_boxcox (0.78)**: This is the estimated lambda for the Box-Cox transformation of the cost variable. A value between 0 and 1 suggests a transformation between a log and a linear relationship.\n",
    "- **beta_cost (-0.19)**: The negative sign for the cost parameter means that as the cost increases, the utility decreases. This is expected, as people prefer cheaper options.\n",
    "- **asc_driving (-0.91)**: The negative ASC for driving suggests a lower inherent preference for driving compared to the base alternative.\n",
    "\n",
    "\n",
    "**Statistical Significance**\n",
    "- **Robust p-values**:\n",
    "  - All parameters except `lambda_boxcox` and `beta_cost` have **p-values of 0.0**, indicating they are **statistically significant**\n",
    "  - `lambda_boxcox` has a p-value of **0.001**, which is still statistically significant.\n",
    "  - `beta_cost` has a p-value of **0.003**, which is also statistically significant.\n",
    "- **Robust t-statistics**:\n",
    "  - All t-statistics are far from zero (absolute values much greater than 2), confirming the statistical significance of each parameter."
   ]
  },
  {
   "cell_type": "code",
   "execution_count": 103,
   "id": "3d82544c",
   "metadata": {},
   "outputs": [],
   "source": [
    "results_pref = results_model_1\n",
    "parameters_pref = parameters_model_1"
   ]
  },
  {
   "cell_type": "code",
   "execution_count": 104,
   "id": "1ee1ba08",
   "metadata": {},
   "outputs": [],
   "source": [
    "# Extract estimated betas from both models\n",
    "def get_betas_dict(results):\n",
    "    params = results.getEstimatedParameters()\n",
    "    return dict(zip(params.index, params['Value']))\n",
    "\n",
    "\n",
    "def compute_chosen_probs(df, betas, boxcox=False, lambda_name='lambda_boxcox'):\n",
    "    \"\"\"\n",
    "    df : DataFrame contenant les données brutes\n",
    "    betas : dict contenant les valeurs des coefficients (Name -> Value)\n",
    "    boxcox : booléen pour indiquer si on applique la transformation Box–Cox\n",
    "    lambda_name : nom du paramètre lambda dans le dictionnaire betas\n",
    "    \"\"\"\n",
    "    # Extraction des coefficients\n",
    "    b_time_pt = betas['beta_time_pt']\n",
    "    b_time_cycling = betas['beta_time_cycling']\n",
    "    b_time_walk = betas['beta_time_walk']\n",
    "    b_time_drive = betas['beta_time_drive']\n",
    "    b_cost = betas['beta_cost']\n",
    "    asc_cyc = betas['asc_cycling']\n",
    "    asc_pt = betas['asc_pt']\n",
    "    asc_drv = betas['asc_driving']\n",
    "    lam = betas[lambda_name] if boxcox else None\n",
    "    \n",
    "    dur_pt_tot = df['dur_pt_bus'] + df['dur_pt_access'] + df['dur_pt_int']\n",
    "    cost_drive = df['cost_driving_fuel'] + df['cost_driving_ccharge']\n",
    "\n",
    "    # Cost transform\n",
    "    if boxcox:\n",
    "        eps = 1e-6\n",
    "        x_pt = np.maximum(df['cost_transit'], eps)\n",
    "        x_dr = np.maximum(cost_drive, eps)\n",
    "        cost_pt = (x_pt**lam - 1)/lam if lam != 0 else np.log(x_pt)\n",
    "        cost_dr = (x_dr**lam - 1)/lam if lam != 0 else np.log(x_dr)\n",
    "    else:\n",
    "        cost_pt = df['cost_transit']\n",
    "        cost_dr = cost_drive\n",
    "\n",
    "    # Utilities\n",
    "    V = np.column_stack([\n",
    "        b_time_walk * df['dur_walking'],\n",
    "        asc_cyc + b_time_cycling * df['dur_cycling'],\n",
    "        asc_pt + b_time_pt * dur_pt_tot + b_cost * cost_pt,\n",
    "        asc_drv + b_time_drive * df['dur_driving'] + b_cost * cost_dr\n",
    "    ])\n",
    "    # Logit probabilities\n",
    "    vmax = V.max(axis=1, keepdims=True)\n",
    "    expV = np.exp(V - vmax)\n",
    "    P = expV / expV.sum(axis=1, keepdims=True)\n",
    "\n",
    "    # Probability of chosen alternative\n",
    "    chosen = df['travel_mode'].astype(int).values - 1\n",
    "    p_chosen = np.clip(P[np.arange(len(df)), chosen], 1e-300, 1.0)\n",
    "    return p_chosen"
   ]
  },
  {
   "cell_type": "code",
   "execution_count": 105,
   "id": "a7e8351c",
   "metadata": {},
   "outputs": [
    {
     "name": "stdout",
     "output_type": "stream",
     "text": [
      "=== Cox Test ===\n",
      "Mean diff in log-likelihoods per obs: 0.005003\n",
      "Std dev: 0.096713\n",
      "T statistic: 3.658\n",
      "p-value: 0.00025\n",
      "→ Reject H0: Model Pref fits significantly better than Model 3.\n"
     ]
    }
   ],
   "source": [
    "# Compute chosen probabilities for both models\n",
    "betas_pref = get_pandas_estimated_parameters(results_pref)\n",
    "betas_3 = get_pandas_estimated_parameters(results_model_3)\n",
    "\n",
    "betas_model_pref = dict(zip(betas_pref['Name'], betas_pref['Value']))\n",
    "betas_model_3 = dict(zip(betas_3['Name'], betas_3['Value']))\n",
    "\n",
    "p1 = compute_chosen_probs(data, betas_model_pref, boxcox=False)\n",
    "p2 = compute_chosen_probs(data, betas_model_3, boxcox=True)\n",
    "\n",
    "# Compute log probabilities and differences\n",
    "logp1 = np.log(p1)\n",
    "logp2 = np.log(p2)\n",
    "r = logp1 - logp2\n",
    "\n",
    "# Cox test statistic\n",
    "N = len(r)\n",
    "r_bar = np.mean(r)\n",
    "s_r = np.std(r, ddof=1)\n",
    "T = np.sqrt(N) * r_bar / s_r\n",
    "p_value = 2 * (1 - norm.cdf(abs(T)))\n",
    "\n",
    "print(\"=== Cox Test ===\")\n",
    "print(f\"Mean diff in log-likelihoods per obs: {r_bar:.6f}\")\n",
    "print(f\"Std dev: {s_r:.6f}\")\n",
    "print(f\"T statistic: {T:.3f}\")\n",
    "print(f\"p-value: {p_value:.5f}\")\n",
    "\n",
    "if p_value < 0.05:\n",
    "    if r_bar > 0:\n",
    "        print(\"→ Reject H0: Model Pref fits significantly better than Model 3.\")\n",
    "    else:\n",
    "        print(\"→ Reject H0: Model 3 fits significantly better than Model Pref.\")\n",
    "else:\n",
    "    print(\"→ Fail to reject H0: No significant difference in fit.\")\n"
   ]
  },
  {
   "cell_type": "markdown",
   "id": "9b907e7b",
   "metadata": {},
   "source": [
    "### **<u>V/ Market Share</u>**"
   ]
  },
  {
   "cell_type": "markdown",
   "id": "6ab21632",
   "metadata": {},
   "source": [
    "**Question 1:** Report the size and weight of each stratum in your sample\n",
    "By dividing every value of the Table 1 by the total population (8673713) we can obtain the weight, as the size of each stratum correspond to each value of Table 1\n",
    "After we have to calculate the proportion based on our database, and after we divide the london proportion by our database proportion to get the weight\n",
    "\n",
    "Now we need to get the number of corresponding people in our initial database"
   ]
  },
  {
   "cell_type": "code",
   "execution_count": 96,
   "id": "6a71e7c3",
   "metadata": {},
   "outputs": [],
   "source": [
    "data[\"age_over_41\"] = (data[\"age\"] > 40).astype(int) # Create age_over_41 variable\n",
    "data_grouped = data.groupby([\"age_over_41\",\"female\"]).size() # Group by age_over_41 and female"
   ]
  },
  {
   "cell_type": "code",
   "execution_count": 97,
   "id": "b7509f6a",
   "metadata": {},
   "outputs": [],
   "source": [
    "london_female_over_41 = 1765143\n",
    "london_female_under_40 = 2599058\n",
    "london_male_over_41 = 1633263\n",
    "london_male_under_40 = 2676249\n",
    "london_total = london_female_over_41 + london_female_under_40 + london_male_over_41 + london_male_under_40\n",
    "\n",
    "data_female_over_41 = data_grouped[1,1]\n",
    "data_female_under_40 = data_grouped[0,1]\n",
    "data_male_over_41 = data_grouped[1,0]\n",
    "data_male_under_40 = data_grouped[0,0]"
   ]
  },
  {
   "cell_type": "code",
   "execution_count": 98,
   "id": "4064a1a2",
   "metadata": {},
   "outputs": [],
   "source": [
    "prop_london_female_over_41 = london_female_over_41 / london_total\n",
    "prop_london_female_under_40 = london_female_under_40 / london_total\n",
    "prop_london_male_over_41 = london_male_over_41 / london_total\n",
    "prop_london_male_under_40 = london_male_under_40 / london_total"
   ]
  },
  {
   "cell_type": "code",
   "execution_count": 99,
   "id": "37e39bc9",
   "metadata": {},
   "outputs": [
    {
     "name": "stdout",
     "output_type": "stream",
     "text": [
      "0.2404 0.2882 0.2186 0.2528\n"
     ]
    }
   ],
   "source": [
    "prop_data_female_over_41 = data_female_over_41 / data_grouped.sum()\n",
    "prop_data_female_under_40 = data_female_under_40 / data_grouped.sum()\n",
    "prop_data_male_over_41 = data_male_over_41 / data_grouped.sum()\n",
    "prop_data_male_under_40 = data_male_under_40 / data_grouped.sum()\n",
    "print(prop_data_female_over_41, prop_data_female_under_40, prop_data_male_over_41, prop_data_male_under_40)"
   ]
  },
  {
   "cell_type": "code",
   "execution_count": 100,
   "id": "f52fdcca",
   "metadata": {},
   "outputs": [
    {
     "name": "stdout",
     "output_type": "stream",
     "text": [
      "The size of each stratum in our database is:\n",
      "Female Over 41: 1202\n",
      "Female Under 40: 1441\n",
      "Male Over 41: 1093\n",
      "Male Under 40: 1264\n",
      "Total population in our database: 5000\n",
      "\n",
      "The weight of each stratum is:\n",
      "Weight Female Over 41: 0.846526159950492\n",
      "Weight Female Under 40: 1.0397213136760648\n",
      "Weight Male Over 41: 0.8613921668262056\n",
      "Weight Male Under 40: 1.2205185952462472\n"
     ]
    }
   ],
   "source": [
    "print(\"The size of each stratum in our database is:\")\n",
    "print(\"Female Over 41:\", data_female_over_41)\n",
    "print(\"Female Under 40:\", data_female_under_40)\n",
    "print(\"Male Over 41:\", data_male_over_41)\n",
    "print(\"Male Under 40:\", data_male_under_40)\n",
    "print(\"Total population in our database:\", data_grouped.sum())\n",
    "\n",
    "weight_female_over_41 = prop_london_female_over_41 / prop_data_female_over_41\n",
    "weight_female_under_40 = prop_london_female_under_40 / prop_data_female_under_40\n",
    "weight_male_over_41 = prop_london_male_over_41 / prop_data_male_over_41\n",
    "weight_male_under_40 = prop_london_male_under_40 / prop_data_male_under_40\n",
    "print(\"\")\n",
    "print(\"The weight of each stratum is:\")\n",
    "print(\"Weight Female Over 41:\", weight_female_over_41)\n",
    "print(\"Weight Female Under 40:\", weight_female_under_40)\n",
    "print(\"Weight Male Over 41:\", weight_male_over_41)\n",
    "print(\"Weight Male Under 40:\", weight_male_under_40)"
   ]
  },
  {
   "cell_type": "code",
   "execution_count": 101,
   "id": "0bee3e42",
   "metadata": {},
   "outputs": [],
   "source": [
    "df_weight = pd.DataFrame({\n",
    "    \"stratum_name\": [\"Female Over 41\", \"Female Under 40\", \"Male Over 41\", \"Male Under 40\"],\n",
    "    'age_over_41': [1, 0, 1, 0],\n",
    "    'female': [1, 1, 0, 0],\n",
    "    \"size\": [data_female_over_41, data_female_under_40, data_male_over_41, data_male_under_40],\n",
    "    'weight ': [weight_female_over_41, weight_female_under_40, weight_male_over_41, weight_male_under_40]\n",
    "})"
   ]
  },
  {
   "cell_type": "code",
   "execution_count": 102,
   "id": "240d5e59",
   "metadata": {},
   "outputs": [
    {
     "data": {
      "application/vnd.microsoft.datawrangler.viewer.v0+json": {
       "columns": [
        {
         "name": "index",
         "rawType": "int64",
         "type": "integer"
        },
        {
         "name": "stratum_name",
         "rawType": "object",
         "type": "string"
        },
        {
         "name": "age_over_41",
         "rawType": "int64",
         "type": "integer"
        },
        {
         "name": "female",
         "rawType": "int64",
         "type": "integer"
        },
        {
         "name": "size",
         "rawType": "int64",
         "type": "integer"
        },
        {
         "name": "weight ",
         "rawType": "float64",
         "type": "float"
        }
       ],
       "ref": "fbf38ad3-0a61-435a-9212-8834d5dd1325",
       "rows": [
        [
         "0",
         "Female Over 41",
         "1",
         "1",
         "1202",
         "0.846526159950492"
        ],
        [
         "1",
         "Female Under 40",
         "0",
         "1",
         "1441",
         "1.0397213136760648"
        ],
        [
         "2",
         "Male Over 41",
         "1",
         "0",
         "1093",
         "0.8613921668262056"
        ],
        [
         "3",
         "Male Under 40",
         "0",
         "0",
         "1264",
         "1.2205185952462472"
        ]
       ],
       "shape": {
        "columns": 5,
        "rows": 4
       }
      },
      "text/html": [
       "<div>\n",
       "<style scoped>\n",
       "    .dataframe tbody tr th:only-of-type {\n",
       "        vertical-align: middle;\n",
       "    }\n",
       "\n",
       "    .dataframe tbody tr th {\n",
       "        vertical-align: top;\n",
       "    }\n",
       "\n",
       "    .dataframe thead th {\n",
       "        text-align: right;\n",
       "    }\n",
       "</style>\n",
       "<table border=\"1\" class=\"dataframe\">\n",
       "  <thead>\n",
       "    <tr style=\"text-align: right;\">\n",
       "      <th></th>\n",
       "      <th>stratum_name</th>\n",
       "      <th>age_over_41</th>\n",
       "      <th>female</th>\n",
       "      <th>size</th>\n",
       "      <th>weight</th>\n",
       "    </tr>\n",
       "  </thead>\n",
       "  <tbody>\n",
       "    <tr>\n",
       "      <th>0</th>\n",
       "      <td>Female Over 41</td>\n",
       "      <td>1</td>\n",
       "      <td>1</td>\n",
       "      <td>1202</td>\n",
       "      <td>0.846526</td>\n",
       "    </tr>\n",
       "    <tr>\n",
       "      <th>1</th>\n",
       "      <td>Female Under 40</td>\n",
       "      <td>0</td>\n",
       "      <td>1</td>\n",
       "      <td>1441</td>\n",
       "      <td>1.039721</td>\n",
       "    </tr>\n",
       "    <tr>\n",
       "      <th>2</th>\n",
       "      <td>Male Over 41</td>\n",
       "      <td>1</td>\n",
       "      <td>0</td>\n",
       "      <td>1093</td>\n",
       "      <td>0.861392</td>\n",
       "    </tr>\n",
       "    <tr>\n",
       "      <th>3</th>\n",
       "      <td>Male Under 40</td>\n",
       "      <td>0</td>\n",
       "      <td>0</td>\n",
       "      <td>1264</td>\n",
       "      <td>1.220519</td>\n",
       "    </tr>\n",
       "  </tbody>\n",
       "</table>\n",
       "</div>"
      ],
      "text/plain": [
       "      stratum_name  age_over_41  female  size   weight \n",
       "0   Female Over 41            1       1  1202  0.846526\n",
       "1  Female Under 40            0       1  1441  1.039721\n",
       "2     Male Over 41            1       0  1093  0.861392\n",
       "3    Male Under 40            0       0  1264  1.220519"
      ]
     },
     "execution_count": 102,
     "metadata": {},
     "output_type": "execute_result"
    }
   ],
   "source": [
    "df_weight"
   ]
  }
 ],
 "metadata": {
  "kernelspec": {
   "display_name": "ModellingChoiceBehaviour",
   "language": "python",
   "name": "python3"
  },
  "language_info": {
   "codemirror_mode": {
    "name": "ipython",
    "version": 3
   },
   "file_extension": ".py",
   "mimetype": "text/x-python",
   "name": "python",
   "nbconvert_exporter": "python",
   "pygments_lexer": "ipython3",
   "version": "3.11.13"
  }
 },
 "nbformat": 4,
 "nbformat_minor": 5
}
