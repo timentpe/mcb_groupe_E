{
 "cells": [
  {
   "cell_type": "code",
   "execution_count": null,
   "id": "e8a15e22",
   "metadata": {},
   "outputs": [],
   "source": [
    "# Eventuellement faire !pip install -r ../requirements.txt ou !pip install biogeme"
   ]
  },
  {
   "cell_type": "markdown",
   "id": "afac029e",
   "metadata": {},
   "source": [
    "**Model 0**\n"
   ]
  },
  {
   "cell_type": "code",
   "execution_count": 10,
   "id": "a58ec687",
   "metadata": {},
   "outputs": [],
   "source": [
    "import biogeme.database as db\n",
    "import biogeme.biogeme as bio\n",
    "from biogeme import models\n",
    "import pandas as pd\n",
    "import numpy as np\n",
    "import matplotlib.pyplot as plt"
   ]
  },
  {
   "cell_type": "markdown",
   "id": "462b7851",
   "metadata": {},
   "source": [
    "blablabla"
   ]
  },
  {
   "cell_type": "code",
   "execution_count": null,
   "id": "c2c35048",
   "metadata": {},
   "outputs": [],
   "source": [
    "DATA_FOLDER = '../data/'"
   ]
  }
 ],
 "metadata": {
  "kernelspec": {
   "display_name": "MCB",
   "language": "python",
   "name": "python3"
  },
  "language_info": {
   "codemirror_mode": {
    "name": "ipython",
    "version": 3
   },
   "file_extension": ".py",
   "mimetype": "text/x-python",
   "name": "python",
   "nbconvert_exporter": "python",
   "pygments_lexer": "ipython3",
   "version": "3.13.7"
  }
 },
 "nbformat": 4,
 "nbformat_minor": 5
}
